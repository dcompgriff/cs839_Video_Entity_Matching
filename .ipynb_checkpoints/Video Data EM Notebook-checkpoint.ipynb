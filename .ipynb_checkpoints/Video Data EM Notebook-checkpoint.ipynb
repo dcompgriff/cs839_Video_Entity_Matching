{
 "cells": [
  {
   "cell_type": "markdown",
   "metadata": {},
   "source": [
    "# Video Data EM Notebook"
   ]
  },
  {
   "cell_type": "code",
   "execution_count": 203,
   "metadata": {},
   "outputs": [],
   "source": [
    "import sys\n",
    "import py_entitymatching as em\n",
    "import pandas as pd\n",
    "import os\n",
    "import time\n",
    "\n",
    "###################################################################\n",
    "#KEY!!!! VARIABLE PREVENTS OVERWRITING LABELED SAMPLED DATA\n",
    "###################################################################\n",
    "GENERATE_NEW_LABELED_DATA = False\n",
    "\n"
   ]
  },
  {
   "cell_type": "code",
   "execution_count": 139,
   "metadata": {},
   "outputs": [
    {
     "name": "stdout",
     "output_type": "stream",
     "text": [
      "python version: 2.7.14 |Anaconda, Inc.| (default, Dec  7 2017, 11:07:58) \n",
      "[GCC 4.2.1 Compatible Clang 4.0.1 (tags/RELEASE_401/final)]\n",
      "pandas version: 0.22.0\n",
      "magellan version: 0.3.0\n"
     ]
    }
   ],
   "source": [
    "# Display the versions\n",
    "print('python version: ' + sys.version )\n",
    "print('pandas version: ' + pd.__version__ )\n",
    "print('magellan version: ' + em.__version__ )"
   ]
  },
  {
   "cell_type": "markdown",
   "metadata": {},
   "source": [
    "Matching two tables typically consists of the following three steps:\n",
    "\n",
    "** 1. Reading the input tables **\n",
    "\n",
    "** 2. Blocking the input tables to get a candidate set **\n",
    "\n",
    "** 3. Matching the tuple pairs in the candidate set **"
   ]
  },
  {
   "cell_type": "markdown",
   "metadata": {},
   "source": [
    "# Read input tables"
   ]
  },
  {
   "cell_type": "code",
   "execution_count": 146,
   "metadata": {},
   "outputs": [
    {
     "name": "stdout",
     "output_type": "stream",
     "text": [
      "/Users/dcompgriff/PrivateDocs/College Docs/Graduate School/University of Wisconson/School Docs/Spring 2017/839 Data Analysis/Project Stage 3/DATA/imdb3.csv\n"
     ]
    }
   ],
   "source": [
    "# Get the paths\n",
    "path_A = os.getcwd() + '/DATA/imdb3.csv'\n",
    "path_B = os.getcwd() + '/DATA/thenumbers3.csv'\n",
    "print(path_A)"
   ]
  },
  {
   "cell_type": "code",
   "execution_count": 147,
   "metadata": {},
   "outputs": [
    {
     "data": {
      "text/html": [
       "<div>\n",
       "<style scoped>\n",
       "    .dataframe tbody tr th:only-of-type {\n",
       "        vertical-align: middle;\n",
       "    }\n",
       "\n",
       "    .dataframe tbody tr th {\n",
       "        vertical-align: top;\n",
       "    }\n",
       "\n",
       "    .dataframe thead th {\n",
       "        text-align: right;\n",
       "    }\n",
       "</style>\n",
       "<table border=\"1\" class=\"dataframe\">\n",
       "  <thead>\n",
       "    <tr style=\"text-align: right;\">\n",
       "      <th></th>\n",
       "      <th>id</th>\n",
       "      <th>title</th>\n",
       "      <th>year</th>\n",
       "      <th>mpaa</th>\n",
       "      <th>runtime</th>\n",
       "      <th>genres</th>\n",
       "      <th>director</th>\n",
       "      <th>stars</th>\n",
       "      <th>gross</th>\n",
       "    </tr>\n",
       "  </thead>\n",
       "  <tbody>\n",
       "    <tr>\n",
       "      <th>0</th>\n",
       "      <td>0</td>\n",
       "      <td>Toy Story 2</td>\n",
       "      <td>1999</td>\n",
       "      <td>G</td>\n",
       "      <td>92 min</td>\n",
       "      <td>Animation, Adventure, Comedy</td>\n",
       "      <td>John Lasseter</td>\n",
       "      <td>Ash Brannon,Lee Unkrich,Tom Hanks,Tim Allen,Joan Cusack,Kelsey Grammer</td>\n",
       "      <td>$245.85M</td>\n",
       "    </tr>\n",
       "    <tr>\n",
       "      <th>1</th>\n",
       "      <td>1</td>\n",
       "      <td>The Outlaw Josey Wales</td>\n",
       "      <td>1976</td>\n",
       "      <td>PG</td>\n",
       "      <td>135 min</td>\n",
       "      <td>Western</td>\n",
       "      <td>Clint Eastwood</td>\n",
       "      <td>Clint Eastwood,Sondra Locke,Chief Dan George,Bill McKinney</td>\n",
       "      <td>$31.80M</td>\n",
       "    </tr>\n",
       "    <tr>\n",
       "      <th>2</th>\n",
       "      <td>2</td>\n",
       "      <td>Monsters, Inc.</td>\n",
       "      <td>2001</td>\n",
       "      <td>G</td>\n",
       "      <td>92 min</td>\n",
       "      <td>Animation, Adventure, Comedy</td>\n",
       "      <td>Pete Docter</td>\n",
       "      <td>David Silverman,Lee Unkrich,Billy Crystal,John Goodman,Mary Gibbs,Steve Buscemi</td>\n",
       "      <td>$289.92M</td>\n",
       "    </tr>\n",
       "    <tr>\n",
       "      <th>3</th>\n",
       "      <td>3</td>\n",
       "      <td>In the Heat of the Night</td>\n",
       "      <td>1967</td>\n",
       "      <td>Not Rated</td>\n",
       "      <td>110 min</td>\n",
       "      <td>Crime, Drama, Mystery</td>\n",
       "      <td>Norman Jewison</td>\n",
       "      <td>Sidney Poitier,Rod Steiger,Warren Oates,Lee Grant</td>\n",
       "      <td>$24.38M</td>\n",
       "    </tr>\n",
       "    <tr>\n",
       "      <th>4</th>\n",
       "      <td>4</td>\n",
       "      <td>Chungking Express</td>\n",
       "      <td>1994</td>\n",
       "      <td>PG-13</td>\n",
       "      <td>102 min</td>\n",
       "      <td>Crime, Drama, Romance</td>\n",
       "      <td>Kar-Wai Wong</td>\n",
       "      <td>Brigitte Lin,Takeshi Kaneshiro,Tony Chiu-Wai Leung,Faye Wong</td>\n",
       "      <td>$0.60M</td>\n",
       "    </tr>\n",
       "  </tbody>\n",
       "</table>\n",
       "</div>"
      ],
      "text/plain": [
       "   id                     title  year       mpaa  runtime  \\\n",
       "0   0               Toy Story 2  1999          G   92 min   \n",
       "1   1    The Outlaw Josey Wales  1976         PG  135 min   \n",
       "2   2            Monsters, Inc.  2001          G   92 min   \n",
       "3   3  In the Heat of the Night  1967  Not Rated  110 min   \n",
       "4   4         Chungking Express  1994      PG-13  102 min   \n",
       "\n",
       "                         genres        director  \\\n",
       "0  Animation, Adventure, Comedy   John Lasseter   \n",
       "1                       Western  Clint Eastwood   \n",
       "2  Animation, Adventure, Comedy     Pete Docter   \n",
       "3         Crime, Drama, Mystery  Norman Jewison   \n",
       "4         Crime, Drama, Romance    Kar-Wai Wong   \n",
       "\n",
       "                                                                             stars  \\\n",
       "0           Ash Brannon,Lee Unkrich,Tom Hanks,Tim Allen,Joan Cusack,Kelsey Grammer   \n",
       "1                       Clint Eastwood,Sondra Locke,Chief Dan George,Bill McKinney   \n",
       "2  David Silverman,Lee Unkrich,Billy Crystal,John Goodman,Mary Gibbs,Steve Buscemi   \n",
       "3                                Sidney Poitier,Rod Steiger,Warren Oates,Lee Grant   \n",
       "4                     Brigitte Lin,Takeshi Kaneshiro,Tony Chiu-Wai Leung,Faye Wong   \n",
       "\n",
       "      gross  \n",
       "0  $245.85M  \n",
       "1   $31.80M  \n",
       "2  $289.92M  \n",
       "3   $24.38M  \n",
       "4    $0.60M  "
      ]
     },
     "execution_count": 147,
     "metadata": {},
     "output_type": "execute_result"
    }
   ],
   "source": [
    "# Load csv files as dataframes and set the key attribute in the dataframe\n",
    "A = em.read_csv_metadata(path_A, key='id')\n",
    "B = em.read_csv_metadata(path_B, key='id')\n",
    "A.head()"
   ]
  },
  {
   "cell_type": "code",
   "execution_count": 148,
   "metadata": {},
   "outputs": [
    {
     "data": {
      "text/html": [
       "<div>\n",
       "<style scoped>\n",
       "    .dataframe tbody tr th:only-of-type {\n",
       "        vertical-align: middle;\n",
       "    }\n",
       "\n",
       "    .dataframe tbody tr th {\n",
       "        vertical-align: top;\n",
       "    }\n",
       "\n",
       "    .dataframe thead th {\n",
       "        text-align: right;\n",
       "    }\n",
       "</style>\n",
       "<table border=\"1\" class=\"dataframe\">\n",
       "  <thead>\n",
       "    <tr style=\"text-align: right;\">\n",
       "      <th></th>\n",
       "      <th>id</th>\n",
       "      <th>title</th>\n",
       "      <th>year</th>\n",
       "      <th>mpaa</th>\n",
       "      <th>runtime</th>\n",
       "      <th>genres</th>\n",
       "      <th>director</th>\n",
       "      <th>stars</th>\n",
       "      <th>gross</th>\n",
       "    </tr>\n",
       "  </thead>\n",
       "  <tbody>\n",
       "    <tr>\n",
       "      <th>0</th>\n",
       "      <td>0</td>\n",
       "      <td>Effects</td>\n",
       "      <td>2005</td>\n",
       "      <td>-1</td>\n",
       "      <td>-1</td>\n",
       "      <td>-1</td>\n",
       "      <td>Dusty Nelson</td>\n",
       "      <td>-1</td>\n",
       "      <td>-1</td>\n",
       "    </tr>\n",
       "    <tr>\n",
       "      <th>1</th>\n",
       "      <td>1</td>\n",
       "      <td>Ek Haseena Thi Ek Deewana Tha</td>\n",
       "      <td>2017</td>\n",
       "      <td>-1</td>\n",
       "      <td>105 minutes</td>\n",
       "      <td>Drama</td>\n",
       "      <td>Suneel Darshan</td>\n",
       "      <td>-1</td>\n",
       "      <td>$149,491</td>\n",
       "    </tr>\n",
       "    <tr>\n",
       "      <th>2</th>\n",
       "      <td>2</td>\n",
       "      <td>Ekk Albela</td>\n",
       "      <td>2016</td>\n",
       "      <td>-1</td>\n",
       "      <td>-1</td>\n",
       "      <td>Drama</td>\n",
       "      <td>Shekhar Sartandel</td>\n",
       "      <td>-1</td>\n",
       "      <td>$1,907</td>\n",
       "    </tr>\n",
       "    <tr>\n",
       "      <th>3</th>\n",
       "      <td>3</td>\n",
       "      <td>The Daisy Chain</td>\n",
       "      <td>2009</td>\n",
       "      <td>R</td>\n",
       "      <td>-1</td>\n",
       "      <td>-1</td>\n",
       "      <td>-1</td>\n",
       "      <td>-1</td>\n",
       "      <td>-1</td>\n",
       "    </tr>\n",
       "    <tr>\n",
       "      <th>4</th>\n",
       "      <td>4</td>\n",
       "      <td>Dali &amp; I: The Surreal Story</td>\n",
       "      <td>2011</td>\n",
       "      <td>-1</td>\n",
       "      <td>-1</td>\n",
       "      <td>Drama</td>\n",
       "      <td>Andrew Niccol</td>\n",
       "      <td>Al Pacino</td>\n",
       "      <td>-1</td>\n",
       "    </tr>\n",
       "  </tbody>\n",
       "</table>\n",
       "</div>"
      ],
      "text/plain": [
       "   id                          title  year mpaa      runtime genres  \\\n",
       "0   0                        Effects  2005   -1           -1     -1   \n",
       "1   1  Ek Haseena Thi Ek Deewana Tha  2017   -1  105 minutes  Drama   \n",
       "2   2                     Ekk Albela  2016   -1           -1  Drama   \n",
       "3   3                The Daisy Chain  2009    R           -1     -1   \n",
       "4   4    Dali & I: The Surreal Story  2011   -1           -1  Drama   \n",
       "\n",
       "            director      stars     gross  \n",
       "0       Dusty Nelson         -1        -1  \n",
       "1     Suneel Darshan         -1  $149,491  \n",
       "2  Shekhar Sartandel         -1    $1,907  \n",
       "3                 -1         -1        -1  \n",
       "4      Andrew Niccol  Al Pacino        -1  "
      ]
     },
     "execution_count": 148,
     "metadata": {},
     "output_type": "execute_result"
    }
   ],
   "source": [
    "B.head()"
   ]
  },
  {
   "cell_type": "markdown",
   "metadata": {},
   "source": [
    "### Check for null entries"
   ]
  },
  {
   "cell_type": "code",
   "execution_count": 149,
   "metadata": {},
   "outputs": [
    {
     "data": {
      "text/plain": [
       "id          0\n",
       "title       0\n",
       "year        0\n",
       "mpaa        0\n",
       "runtime     0\n",
       "genres      0\n",
       "director    0\n",
       "stars       0\n",
       "gross       0\n",
       "dtype: int64"
      ]
     },
     "execution_count": 149,
     "metadata": {},
     "output_type": "execute_result"
    }
   ],
   "source": [
    "B.isnull().sum()"
   ]
  },
  {
   "cell_type": "code",
   "execution_count": 150,
   "metadata": {},
   "outputs": [
    {
     "data": {
      "text/plain": [
       "id          0\n",
       "title       0\n",
       "year        0\n",
       "mpaa        0\n",
       "runtime     0\n",
       "genres      0\n",
       "director    0\n",
       "stars       0\n",
       "gross       0\n",
       "dtype: int64"
      ]
     },
     "execution_count": 150,
     "metadata": {},
     "output_type": "execute_result"
    }
   ],
   "source": [
    "A.isnull().sum()"
   ]
  },
  {
   "cell_type": "markdown",
   "metadata": {},
   "source": [
    "### Check the data size"
   ]
  },
  {
   "cell_type": "code",
   "execution_count": 151,
   "metadata": {},
   "outputs": [
    {
     "name": "stdout",
     "output_type": "stream",
     "text": [
      "Number of tuples in A: 4291\n",
      "Number of tuples in B: 31006\n",
      "Number of tuples in A X B (i.e the cartesian product): 133046746\n"
     ]
    }
   ],
   "source": [
    "print('Number of tuples in A: ' + str(len(A)))\n",
    "print('Number of tuples in B: ' + str(len(B)))\n",
    "print('Number of tuples in A X B (i.e the cartesian product): ' + str(len(A)*len(B)))"
   ]
  },
  {
   "cell_type": "code",
   "execution_count": 152,
   "metadata": {},
   "outputs": [
    {
     "data": {
      "text/plain": [
       "('id', 'id')"
      ]
     },
     "execution_count": 152,
     "metadata": {},
     "output_type": "execute_result"
    }
   ],
   "source": [
    "# Display the keys of the input tables\n",
    "em.get_key(A), em.get_key(B)"
   ]
  },
  {
   "cell_type": "code",
   "execution_count": 153,
   "metadata": {},
   "outputs": [
    {
     "data": {
      "text/plain": [
       "(140, 200)"
      ]
     },
     "execution_count": 153,
     "metadata": {},
     "output_type": "execute_result"
    }
   ],
   "source": [
    "# If the tables are large we can downsample the tables like this\n",
    "A1, B1 = em.down_sample(A, B, 200, 1, show_progress=False)\n",
    "len(A1), len(B1)\n",
    "\n",
    "# But for the purposes of this notebook, we will use the entire table A and B"
   ]
  },
  {
   "cell_type": "markdown",
   "metadata": {},
   "source": [
    "# Block tables to get candidate set\n",
    "\n",
    "Before we do the matching, we would like to remove the obviously non-matching tuple pairs from the input tables. This would reduce the number of tuple pairs considered for matching.\n",
    "*py_entitymatching* provides four different blockers: (1) attribute equivalence, (2) overlap, (3) rule-based, and (4) black-box. The user can mix and match these blockers to form a blocking sequence applied to input tables.\n",
    "\n",
    "For the matching problem at hand, we know that two restaurants with different city names will not match. So we decide the apply blocking over names:"
   ]
  },
  {
   "cell_type": "code",
   "execution_count": 154,
   "metadata": {},
   "outputs": [],
   "source": [
    "# Blocking plan\n",
    "\n",
    "# A, B -- overlap blocker [title] --------------------|---> candidate set"
   ]
  },
  {
   "cell_type": "code",
   "execution_count": 155,
   "metadata": {},
   "outputs": [
    {
     "name": "stderr",
     "output_type": "stream",
     "text": [
      "0% [##############################] 100% | ETA: 00:00:00\n",
      "Total time elapsed: 00:01:41\n"
     ]
    }
   ],
   "source": [
    "# Create attribute equivalence blocker\n",
    "ab = em.OverlapBlocker()\n",
    "\n",
    "# Block using city attribute\n",
    "C1 = ab.block_tables(A, B, 'title', 'title', \n",
    "                    l_output_attrs=['title', 'year', 'mpaa', 'runtime', 'genres', 'director', 'stars', 'gross'], \n",
    "                    r_output_attrs=['title', 'year', 'mpaa', 'runtime', 'genres', 'director', 'stars', 'gross'],\n",
    "                    overlap_size=1\n",
    "                    )"
   ]
  },
  {
   "cell_type": "code",
   "execution_count": 156,
   "metadata": {},
   "outputs": [
    {
     "data": {
      "text/plain": [
       "10956134"
      ]
     },
     "execution_count": 156,
     "metadata": {},
     "output_type": "execute_result"
    }
   ],
   "source": [
    "len(C1)"
   ]
  },
  {
   "cell_type": "markdown",
   "metadata": {},
   "source": [
    "## Debug blocker output"
   ]
  },
  {
   "cell_type": "markdown",
   "metadata": {},
   "source": [
    "The number of tuple pairs considered for matching is reduced to 10,956,134 (from 133,046,746), but we would want to make sure that the blocker did not drop any potential matches. We could debug the blocker output in *py_entitymatching* as follows:"
   ]
  },
  {
   "cell_type": "code",
   "execution_count": 157,
   "metadata": {},
   "outputs": [
    {
     "name": "stdout",
     "output_type": "stream",
     "text": [
      "Total time: 44.68 seconds.\n"
     ]
    }
   ],
   "source": [
    "# Debug blocker output\n",
    "startTime = time.time()\n",
    "dbg = em.debug_blocker(C1, A, B, output_size=200, attr_corres=[('title','title'), ('year', 'year')])\n",
    "endTime = time.time()\n",
    "print(\"Total time: %.2f seconds.\"%(endTime-startTime))"
   ]
  },
  {
   "cell_type": "code",
   "execution_count": 158,
   "metadata": {},
   "outputs": [
    {
     "data": {
      "text/html": [
       "<div>\n",
       "<style scoped>\n",
       "    .dataframe tbody tr th:only-of-type {\n",
       "        vertical-align: middle;\n",
       "    }\n",
       "\n",
       "    .dataframe tbody tr th {\n",
       "        vertical-align: top;\n",
       "    }\n",
       "\n",
       "    .dataframe thead th {\n",
       "        text-align: right;\n",
       "    }\n",
       "</style>\n",
       "<table border=\"1\" class=\"dataframe\">\n",
       "  <thead>\n",
       "    <tr style=\"text-align: right;\">\n",
       "      <th></th>\n",
       "      <th>_id</th>\n",
       "      <th>ltable_id</th>\n",
       "      <th>rtable_id</th>\n",
       "      <th>ltable_title</th>\n",
       "      <th>ltable_year</th>\n",
       "      <th>rtable_title</th>\n",
       "      <th>rtable_year</th>\n",
       "    </tr>\n",
       "  </thead>\n",
       "  <tbody>\n",
       "    <tr>\n",
       "      <th>0</th>\n",
       "      <td>0</td>\n",
       "      <td>2965</td>\n",
       "      <td>17445</td>\n",
       "      <td>Advise &amp; Consent</td>\n",
       "      <td>1962</td>\n",
       "      <td>Ginger &amp; Rosa</td>\n",
       "      <td>2013</td>\n",
       "    </tr>\n",
       "    <tr>\n",
       "      <th>1</th>\n",
       "      <td>1</td>\n",
       "      <td>2965</td>\n",
       "      <td>17842</td>\n",
       "      <td>Advise &amp; Consent</td>\n",
       "      <td>1962</td>\n",
       "      <td>Harry &amp; Son</td>\n",
       "      <td>1984</td>\n",
       "    </tr>\n",
       "    <tr>\n",
       "      <th>2</th>\n",
       "      <td>2</td>\n",
       "      <td>2965</td>\n",
       "      <td>17844</td>\n",
       "      <td>Advise &amp; Consent</td>\n",
       "      <td>1962</td>\n",
       "      <td>Harry &amp; Snowman</td>\n",
       "      <td>2016</td>\n",
       "    </tr>\n",
       "    <tr>\n",
       "      <th>3</th>\n",
       "      <td>3</td>\n",
       "      <td>2965</td>\n",
       "      <td>19318</td>\n",
       "      <td>Advise &amp; Consent</td>\n",
       "      <td>1962</td>\n",
       "      <td>Lambert &amp; Stamp</td>\n",
       "      <td>2015</td>\n",
       "    </tr>\n",
       "    <tr>\n",
       "      <th>4</th>\n",
       "      <td>4</td>\n",
       "      <td>2965</td>\n",
       "      <td>19600</td>\n",
       "      <td>Advise &amp; Consent</td>\n",
       "      <td>1962</td>\n",
       "      <td>David &amp; Layla</td>\n",
       "      <td>2007</td>\n",
       "    </tr>\n",
       "    <tr>\n",
       "      <th>5</th>\n",
       "      <td>5</td>\n",
       "      <td>2965</td>\n",
       "      <td>19796</td>\n",
       "      <td>Advise &amp; Consent</td>\n",
       "      <td>1962</td>\n",
       "      <td>Hansel &amp; Gretel</td>\n",
       "      <td>2002</td>\n",
       "    </tr>\n",
       "    <tr>\n",
       "      <th>6</th>\n",
       "      <td>6</td>\n",
       "      <td>2965</td>\n",
       "      <td>20161</td>\n",
       "      <td>Advise &amp; Consent</td>\n",
       "      <td>1962</td>\n",
       "      <td>Q &amp; A</td>\n",
       "      <td>1990</td>\n",
       "    </tr>\n",
       "    <tr>\n",
       "      <th>7</th>\n",
       "      <td>7</td>\n",
       "      <td>2965</td>\n",
       "      <td>23293</td>\n",
       "      <td>Advise &amp; Consent</td>\n",
       "      <td>1962</td>\n",
       "      <td>Starsky &amp; Hutch</td>\n",
       "      <td>2004</td>\n",
       "    </tr>\n",
       "    <tr>\n",
       "      <th>8</th>\n",
       "      <td>8</td>\n",
       "      <td>2965</td>\n",
       "      <td>23439</td>\n",
       "      <td>Advise &amp; Consent</td>\n",
       "      <td>1962</td>\n",
       "      <td>Spring &amp; Arnaud</td>\n",
       "      <td>2016</td>\n",
       "    </tr>\n",
       "    <tr>\n",
       "      <th>9</th>\n",
       "      <td>9</td>\n",
       "      <td>2965</td>\n",
       "      <td>25285</td>\n",
       "      <td>Advise &amp; Consent</td>\n",
       "      <td>1962</td>\n",
       "      <td>Town &amp; Country</td>\n",
       "      <td>2001</td>\n",
       "    </tr>\n",
       "    <tr>\n",
       "      <th>10</th>\n",
       "      <td>10</td>\n",
       "      <td>2965</td>\n",
       "      <td>26599</td>\n",
       "      <td>Advise &amp; Consent</td>\n",
       "      <td>1962</td>\n",
       "      <td>Withnail &amp; I</td>\n",
       "      <td>1987</td>\n",
       "    </tr>\n",
       "    <tr>\n",
       "      <th>11</th>\n",
       "      <td>11</td>\n",
       "      <td>2965</td>\n",
       "      <td>26620</td>\n",
       "      <td>Advise &amp; Consent</td>\n",
       "      <td>1962</td>\n",
       "      <td>Rodeo &amp; Juliet</td>\n",
       "      <td>2016</td>\n",
       "    </tr>\n",
       "    <tr>\n",
       "      <th>12</th>\n",
       "      <td>12</td>\n",
       "      <td>2965</td>\n",
       "      <td>26824</td>\n",
       "      <td>Advise &amp; Consent</td>\n",
       "      <td>1962</td>\n",
       "      <td>Rock &amp; Rule</td>\n",
       "      <td>1983</td>\n",
       "    </tr>\n",
       "    <tr>\n",
       "      <th>13</th>\n",
       "      <td>13</td>\n",
       "      <td>2965</td>\n",
       "      <td>28999</td>\n",
       "      <td>Advise &amp; Consent</td>\n",
       "      <td>1962</td>\n",
       "      <td>Water &amp; Power</td>\n",
       "      <td>2014</td>\n",
       "    </tr>\n",
       "    <tr>\n",
       "      <th>14</th>\n",
       "      <td>14</td>\n",
       "      <td>2965</td>\n",
       "      <td>29445</td>\n",
       "      <td>Advise &amp; Consent</td>\n",
       "      <td>1962</td>\n",
       "      <td>Wallace &amp; Gromit</td>\n",
       "      <td>1996</td>\n",
       "    </tr>\n",
       "    <tr>\n",
       "      <th>15</th>\n",
       "      <td>15</td>\n",
       "      <td>2965</td>\n",
       "      <td>29519</td>\n",
       "      <td>Advise &amp; Consent</td>\n",
       "      <td>1962</td>\n",
       "      <td>Up &amp; Down</td>\n",
       "      <td>2005</td>\n",
       "    </tr>\n",
       "    <tr>\n",
       "      <th>16</th>\n",
       "      <td>16</td>\n",
       "      <td>2965</td>\n",
       "      <td>30408</td>\n",
       "      <td>Advise &amp; Consent</td>\n",
       "      <td>1962</td>\n",
       "      <td>Yossi &amp; Jagger</td>\n",
       "      <td>2003</td>\n",
       "    </tr>\n",
       "    <tr>\n",
       "      <th>17</th>\n",
       "      <td>17</td>\n",
       "      <td>3038</td>\n",
       "      <td>236</td>\n",
       "      <td>Love &amp; Mercy</td>\n",
       "      <td>2014</td>\n",
       "      <td>Burke &amp; Hare</td>\n",
       "      <td>2011</td>\n",
       "    </tr>\n",
       "    <tr>\n",
       "      <th>18</th>\n",
       "      <td>18</td>\n",
       "      <td>2661</td>\n",
       "      <td>29762</td>\n",
       "      <td>Chef</td>\n",
       "      <td>2014</td>\n",
       "      <td>Ragnarok</td>\n",
       "      <td>2014</td>\n",
       "    </tr>\n",
       "    <tr>\n",
       "      <th>19</th>\n",
       "      <td>19</td>\n",
       "      <td>2661</td>\n",
       "      <td>30538</td>\n",
       "      <td>Chef</td>\n",
       "      <td>2014</td>\n",
       "      <td>Ungli</td>\n",
       "      <td>2014</td>\n",
       "    </tr>\n",
       "    <tr>\n",
       "      <th>20</th>\n",
       "      <td>20</td>\n",
       "      <td>2661</td>\n",
       "      <td>30870</td>\n",
       "      <td>Chef</td>\n",
       "      <td>2014</td>\n",
       "      <td>Unbroken</td>\n",
       "      <td>2014</td>\n",
       "    </tr>\n",
       "    <tr>\n",
       "      <th>21</th>\n",
       "      <td>21</td>\n",
       "      <td>2965</td>\n",
       "      <td>236</td>\n",
       "      <td>Advise &amp; Consent</td>\n",
       "      <td>1962</td>\n",
       "      <td>Burke &amp; Hare</td>\n",
       "      <td>2011</td>\n",
       "    </tr>\n",
       "    <tr>\n",
       "      <th>22</th>\n",
       "      <td>22</td>\n",
       "      <td>2965</td>\n",
       "      <td>782</td>\n",
       "      <td>Advise &amp; Consent</td>\n",
       "      <td>1962</td>\n",
       "      <td>Bride &amp; Prejudice</td>\n",
       "      <td>2005</td>\n",
       "    </tr>\n",
       "    <tr>\n",
       "      <th>23</th>\n",
       "      <td>23</td>\n",
       "      <td>2965</td>\n",
       "      <td>4163</td>\n",
       "      <td>Advise &amp; Consent</td>\n",
       "      <td>1962</td>\n",
       "      <td>Love &amp; Taxes</td>\n",
       "      <td>2017</td>\n",
       "    </tr>\n",
       "    <tr>\n",
       "      <th>24</th>\n",
       "      <td>24</td>\n",
       "      <td>2965</td>\n",
       "      <td>4262</td>\n",
       "      <td>Advise &amp; Consent</td>\n",
       "      <td>1962</td>\n",
       "      <td>Love &amp; Mercy</td>\n",
       "      <td>2015</td>\n",
       "    </tr>\n",
       "    <tr>\n",
       "      <th>25</th>\n",
       "      <td>25</td>\n",
       "      <td>2965</td>\n",
       "      <td>4263</td>\n",
       "      <td>Advise &amp; Consent</td>\n",
       "      <td>1962</td>\n",
       "      <td>Love &amp; Friendship</td>\n",
       "      <td>2016</td>\n",
       "    </tr>\n",
       "    <tr>\n",
       "      <th>26</th>\n",
       "      <td>26</td>\n",
       "      <td>2965</td>\n",
       "      <td>6232</td>\n",
       "      <td>Advise &amp; Consent</td>\n",
       "      <td>1962</td>\n",
       "      <td>Plunkett &amp; Macleane</td>\n",
       "      <td>1999</td>\n",
       "    </tr>\n",
       "    <tr>\n",
       "      <th>27</th>\n",
       "      <td>27</td>\n",
       "      <td>2965</td>\n",
       "      <td>6337</td>\n",
       "      <td>Advise &amp; Consent</td>\n",
       "      <td>1962</td>\n",
       "      <td>Cloak &amp; Dagger</td>\n",
       "      <td>1984</td>\n",
       "    </tr>\n",
       "    <tr>\n",
       "      <th>28</th>\n",
       "      <td>28</td>\n",
       "      <td>2965</td>\n",
       "      <td>6586</td>\n",
       "      <td>Advise &amp; Consent</td>\n",
       "      <td>1962</td>\n",
       "      <td>Gun &amp; Goal</td>\n",
       "      <td>2015</td>\n",
       "    </tr>\n",
       "    <tr>\n",
       "      <th>29</th>\n",
       "      <td>29</td>\n",
       "      <td>2965</td>\n",
       "      <td>13033</td>\n",
       "      <td>Advise &amp; Consent</td>\n",
       "      <td>1962</td>\n",
       "      <td>Henry &amp; Me</td>\n",
       "      <td>2014</td>\n",
       "    </tr>\n",
       "    <tr>\n",
       "      <th>30</th>\n",
       "      <td>30</td>\n",
       "      <td>2965</td>\n",
       "      <td>13036</td>\n",
       "      <td>Advise &amp; Consent</td>\n",
       "      <td>1962</td>\n",
       "      <td>Henry &amp; June</td>\n",
       "      <td>1990</td>\n",
       "    </tr>\n",
       "    <tr>\n",
       "      <th>31</th>\n",
       "      <td>31</td>\n",
       "      <td>2965</td>\n",
       "      <td>13040</td>\n",
       "      <td>Advise &amp; Consent</td>\n",
       "      <td>1962</td>\n",
       "      <td>Hemingway &amp; Gellhorn</td>\n",
       "      <td>2013</td>\n",
       "    </tr>\n",
       "    <tr>\n",
       "      <th>32</th>\n",
       "      <td>32</td>\n",
       "      <td>2965</td>\n",
       "      <td>14788</td>\n",
       "      <td>Advise &amp; Consent</td>\n",
       "      <td>1962</td>\n",
       "      <td>Heaven &amp; Earth</td>\n",
       "      <td>1993</td>\n",
       "    </tr>\n",
       "    <tr>\n",
       "      <th>33</th>\n",
       "      <td>33</td>\n",
       "      <td>2965</td>\n",
       "      <td>15471</td>\n",
       "      <td>Advise &amp; Consent</td>\n",
       "      <td>1962</td>\n",
       "      <td>AimÃ©e &amp; Jaguar</td>\n",
       "      <td>2000</td>\n",
       "    </tr>\n",
       "    <tr>\n",
       "      <th>34</th>\n",
       "      <td>34</td>\n",
       "      <td>2965</td>\n",
       "      <td>16789</td>\n",
       "      <td>Advise &amp; Consent</td>\n",
       "      <td>1962</td>\n",
       "      <td>In &amp; Out</td>\n",
       "      <td>1997</td>\n",
       "    </tr>\n",
       "    <tr>\n",
       "      <th>35</th>\n",
       "      <td>35</td>\n",
       "      <td>2965</td>\n",
       "      <td>16873</td>\n",
       "      <td>Advise &amp; Consent</td>\n",
       "      <td>1962</td>\n",
       "      <td>Cas &amp; Dylan</td>\n",
       "      <td>2015</td>\n",
       "    </tr>\n",
       "    <tr>\n",
       "      <th>36</th>\n",
       "      <td>36</td>\n",
       "      <td>2965</td>\n",
       "      <td>16878</td>\n",
       "      <td>Advise &amp; Consent</td>\n",
       "      <td>1962</td>\n",
       "      <td>Carter &amp; June</td>\n",
       "      <td>2017</td>\n",
       "    </tr>\n",
       "    <tr>\n",
       "      <th>37</th>\n",
       "      <td>37</td>\n",
       "      <td>3038</td>\n",
       "      <td>23293</td>\n",
       "      <td>Love &amp; Mercy</td>\n",
       "      <td>2014</td>\n",
       "      <td>Starsky &amp; Hutch</td>\n",
       "      <td>2004</td>\n",
       "    </tr>\n",
       "    <tr>\n",
       "      <th>38</th>\n",
       "      <td>38</td>\n",
       "      <td>3038</td>\n",
       "      <td>23439</td>\n",
       "      <td>Love &amp; Mercy</td>\n",
       "      <td>2014</td>\n",
       "      <td>Spring &amp; Arnaud</td>\n",
       "      <td>2016</td>\n",
       "    </tr>\n",
       "    <tr>\n",
       "      <th>39</th>\n",
       "      <td>39</td>\n",
       "      <td>3038</td>\n",
       "      <td>25285</td>\n",
       "      <td>Love &amp; Mercy</td>\n",
       "      <td>2014</td>\n",
       "      <td>Town &amp; Country</td>\n",
       "      <td>2001</td>\n",
       "    </tr>\n",
       "    <tr>\n",
       "      <th>40</th>\n",
       "      <td>40</td>\n",
       "      <td>3038</td>\n",
       "      <td>26599</td>\n",
       "      <td>Love &amp; Mercy</td>\n",
       "      <td>2014</td>\n",
       "      <td>Withnail &amp; I</td>\n",
       "      <td>1987</td>\n",
       "    </tr>\n",
       "    <tr>\n",
       "      <th>41</th>\n",
       "      <td>41</td>\n",
       "      <td>3038</td>\n",
       "      <td>26620</td>\n",
       "      <td>Love &amp; Mercy</td>\n",
       "      <td>2014</td>\n",
       "      <td>Rodeo &amp; Juliet</td>\n",
       "      <td>2016</td>\n",
       "    </tr>\n",
       "    <tr>\n",
       "      <th>42</th>\n",
       "      <td>42</td>\n",
       "      <td>3038</td>\n",
       "      <td>26824</td>\n",
       "      <td>Love &amp; Mercy</td>\n",
       "      <td>2014</td>\n",
       "      <td>Rock &amp; Rule</td>\n",
       "      <td>1983</td>\n",
       "    </tr>\n",
       "    <tr>\n",
       "      <th>43</th>\n",
       "      <td>43</td>\n",
       "      <td>3038</td>\n",
       "      <td>28999</td>\n",
       "      <td>Love &amp; Mercy</td>\n",
       "      <td>2014</td>\n",
       "      <td>Water &amp; Power</td>\n",
       "      <td>2014</td>\n",
       "    </tr>\n",
       "    <tr>\n",
       "      <th>44</th>\n",
       "      <td>44</td>\n",
       "      <td>3038</td>\n",
       "      <td>29445</td>\n",
       "      <td>Love &amp; Mercy</td>\n",
       "      <td>2014</td>\n",
       "      <td>Wallace &amp; Gromit</td>\n",
       "      <td>1996</td>\n",
       "    </tr>\n",
       "    <tr>\n",
       "      <th>45</th>\n",
       "      <td>45</td>\n",
       "      <td>3038</td>\n",
       "      <td>29519</td>\n",
       "      <td>Love &amp; Mercy</td>\n",
       "      <td>2014</td>\n",
       "      <td>Up &amp; Down</td>\n",
       "      <td>2005</td>\n",
       "    </tr>\n",
       "    <tr>\n",
       "      <th>46</th>\n",
       "      <td>46</td>\n",
       "      <td>3038</td>\n",
       "      <td>30408</td>\n",
       "      <td>Love &amp; Mercy</td>\n",
       "      <td>2014</td>\n",
       "      <td>Yossi &amp; Jagger</td>\n",
       "      <td>2003</td>\n",
       "    </tr>\n",
       "    <tr>\n",
       "      <th>47</th>\n",
       "      <td>47</td>\n",
       "      <td>3431</td>\n",
       "      <td>236</td>\n",
       "      <td>Oliver &amp; Company</td>\n",
       "      <td>1988</td>\n",
       "      <td>Burke &amp; Hare</td>\n",
       "      <td>2011</td>\n",
       "    </tr>\n",
       "    <tr>\n",
       "      <th>48</th>\n",
       "      <td>48</td>\n",
       "      <td>3431</td>\n",
       "      <td>782</td>\n",
       "      <td>Oliver &amp; Company</td>\n",
       "      <td>1988</td>\n",
       "      <td>Bride &amp; Prejudice</td>\n",
       "      <td>2005</td>\n",
       "    </tr>\n",
       "    <tr>\n",
       "      <th>49</th>\n",
       "      <td>49</td>\n",
       "      <td>3431</td>\n",
       "      <td>4163</td>\n",
       "      <td>Oliver &amp; Company</td>\n",
       "      <td>1988</td>\n",
       "      <td>Love &amp; Taxes</td>\n",
       "      <td>2017</td>\n",
       "    </tr>\n",
       "  </tbody>\n",
       "</table>\n",
       "</div>"
      ],
      "text/plain": [
       "    _id  ltable_id  rtable_id      ltable_title ltable_year  \\\n",
       "0     0       2965      17445  Advise & Consent        1962   \n",
       "1     1       2965      17842  Advise & Consent        1962   \n",
       "2     2       2965      17844  Advise & Consent        1962   \n",
       "3     3       2965      19318  Advise & Consent        1962   \n",
       "4     4       2965      19600  Advise & Consent        1962   \n",
       "5     5       2965      19796  Advise & Consent        1962   \n",
       "6     6       2965      20161  Advise & Consent        1962   \n",
       "7     7       2965      23293  Advise & Consent        1962   \n",
       "8     8       2965      23439  Advise & Consent        1962   \n",
       "9     9       2965      25285  Advise & Consent        1962   \n",
       "10   10       2965      26599  Advise & Consent        1962   \n",
       "11   11       2965      26620  Advise & Consent        1962   \n",
       "12   12       2965      26824  Advise & Consent        1962   \n",
       "13   13       2965      28999  Advise & Consent        1962   \n",
       "14   14       2965      29445  Advise & Consent        1962   \n",
       "15   15       2965      29519  Advise & Consent        1962   \n",
       "16   16       2965      30408  Advise & Consent        1962   \n",
       "17   17       3038        236      Love & Mercy        2014   \n",
       "18   18       2661      29762              Chef        2014   \n",
       "19   19       2661      30538              Chef        2014   \n",
       "20   20       2661      30870              Chef        2014   \n",
       "21   21       2965        236  Advise & Consent        1962   \n",
       "22   22       2965        782  Advise & Consent        1962   \n",
       "23   23       2965       4163  Advise & Consent        1962   \n",
       "24   24       2965       4262  Advise & Consent        1962   \n",
       "25   25       2965       4263  Advise & Consent        1962   \n",
       "26   26       2965       6232  Advise & Consent        1962   \n",
       "27   27       2965       6337  Advise & Consent        1962   \n",
       "28   28       2965       6586  Advise & Consent        1962   \n",
       "29   29       2965      13033  Advise & Consent        1962   \n",
       "30   30       2965      13036  Advise & Consent        1962   \n",
       "31   31       2965      13040  Advise & Consent        1962   \n",
       "32   32       2965      14788  Advise & Consent        1962   \n",
       "33   33       2965      15471  Advise & Consent        1962   \n",
       "34   34       2965      16789  Advise & Consent        1962   \n",
       "35   35       2965      16873  Advise & Consent        1962   \n",
       "36   36       2965      16878  Advise & Consent        1962   \n",
       "37   37       3038      23293      Love & Mercy        2014   \n",
       "38   38       3038      23439      Love & Mercy        2014   \n",
       "39   39       3038      25285      Love & Mercy        2014   \n",
       "40   40       3038      26599      Love & Mercy        2014   \n",
       "41   41       3038      26620      Love & Mercy        2014   \n",
       "42   42       3038      26824      Love & Mercy        2014   \n",
       "43   43       3038      28999      Love & Mercy        2014   \n",
       "44   44       3038      29445      Love & Mercy        2014   \n",
       "45   45       3038      29519      Love & Mercy        2014   \n",
       "46   46       3038      30408      Love & Mercy        2014   \n",
       "47   47       3431        236  Oliver & Company        1988   \n",
       "48   48       3431        782  Oliver & Company        1988   \n",
       "49   49       3431       4163  Oliver & Company        1988   \n",
       "\n",
       "            rtable_title  rtable_year  \n",
       "0          Ginger & Rosa         2013  \n",
       "1            Harry & Son         1984  \n",
       "2        Harry & Snowman         2016  \n",
       "3        Lambert & Stamp         2015  \n",
       "4          David & Layla         2007  \n",
       "5        Hansel & Gretel         2002  \n",
       "6                  Q & A         1990  \n",
       "7        Starsky & Hutch         2004  \n",
       "8        Spring & Arnaud         2016  \n",
       "9         Town & Country         2001  \n",
       "10          Withnail & I         1987  \n",
       "11        Rodeo & Juliet         2016  \n",
       "12           Rock & Rule         1983  \n",
       "13         Water & Power         2014  \n",
       "14      Wallace & Gromit         1996  \n",
       "15             Up & Down         2005  \n",
       "16        Yossi & Jagger         2003  \n",
       "17          Burke & Hare         2011  \n",
       "18              Ragnarok         2014  \n",
       "19                 Ungli         2014  \n",
       "20              Unbroken         2014  \n",
       "21          Burke & Hare         2011  \n",
       "22     Bride & Prejudice         2005  \n",
       "23          Love & Taxes         2017  \n",
       "24          Love & Mercy         2015  \n",
       "25     Love & Friendship         2016  \n",
       "26   Plunkett & Macleane         1999  \n",
       "27        Cloak & Dagger         1984  \n",
       "28            Gun & Goal         2015  \n",
       "29            Henry & Me         2014  \n",
       "30          Henry & June         1990  \n",
       "31  Hemingway & Gellhorn         2013  \n",
       "32        Heaven & Earth         1993  \n",
       "33       AimÃ©e & Jaguar         2000  \n",
       "34              In & Out         1997  \n",
       "35           Cas & Dylan         2015  \n",
       "36         Carter & June         2017  \n",
       "37       Starsky & Hutch         2004  \n",
       "38       Spring & Arnaud         2016  \n",
       "39        Town & Country         2001  \n",
       "40          Withnail & I         1987  \n",
       "41        Rodeo & Juliet         2016  \n",
       "42           Rock & Rule         1983  \n",
       "43         Water & Power         2014  \n",
       "44      Wallace & Gromit         1996  \n",
       "45             Up & Down         2005  \n",
       "46        Yossi & Jagger         2003  \n",
       "47          Burke & Hare         2011  \n",
       "48     Bride & Prejudice         2005  \n",
       "49          Love & Taxes         2017  "
      ]
     },
     "execution_count": 158,
     "metadata": {},
     "output_type": "execute_result"
    }
   ],
   "source": [
    "# Display first few tuple pairs from the debug_blocker's output\n",
    "dbg.head(50)"
   ]
  },
  {
   "cell_type": "markdown",
   "metadata": {},
   "source": [
    "From the debug blocker's output we observe that the current blocker drops quite a few potential matches. We would want to update the blocking sequence to avoid dropping these potential matches.\n",
    "\n",
    "For the considered dataset, we know that for the restaurants to match the  names must overlap between them. We could use overlap blocker for this purpose. Finally, we would want to union the outputs from the attribute equivalence blocker and the overlap blocker to get a consolidated candidate set."
   ]
  },
  {
   "cell_type": "code",
   "execution_count": 159,
   "metadata": {},
   "outputs": [],
   "source": [
    "# Updated blocking sequence\n",
    "# A, B ------ overlap blocker [title] -----> C1--\n",
    "#                                                     \n",
    "# C1 ------ overlap blocker [year] --------> C2--"
   ]
  },
  {
   "cell_type": "code",
   "execution_count": 160,
   "metadata": {},
   "outputs": [
    {
     "name": "stderr",
     "output_type": "stream",
     "text": [
      "0% [##############################] 100% | ETA: 00:00:00\n",
      "Total time elapsed: 00:03:37\n"
     ]
    },
    {
     "data": {
      "text/plain": [
       "134228"
      ]
     },
     "execution_count": 160,
     "metadata": {},
     "output_type": "execute_result"
    }
   ],
   "source": [
    "# Create overlap blocker\n",
    "ob = em.OverlapBlocker()\n",
    "\n",
    "# Block tables using 'name' attribute \n",
    "C2 = ob.block_candset(C1, 'year', 'year' \n",
    "                    )\n",
    "len(C2)"
   ]
  },
  {
   "cell_type": "code",
   "execution_count": 161,
   "metadata": {},
   "outputs": [
    {
     "data": {
      "text/html": [
       "<div>\n",
       "<style scoped>\n",
       "    .dataframe tbody tr th:only-of-type {\n",
       "        vertical-align: middle;\n",
       "    }\n",
       "\n",
       "    .dataframe tbody tr th {\n",
       "        vertical-align: top;\n",
       "    }\n",
       "\n",
       "    .dataframe thead th {\n",
       "        text-align: right;\n",
       "    }\n",
       "</style>\n",
       "<table border=\"1\" class=\"dataframe\">\n",
       "  <thead>\n",
       "    <tr style=\"text-align: right;\">\n",
       "      <th></th>\n",
       "      <th>_id</th>\n",
       "      <th>ltable_id</th>\n",
       "      <th>rtable_id</th>\n",
       "      <th>ltable_title</th>\n",
       "      <th>ltable_year</th>\n",
       "      <th>ltable_mpaa</th>\n",
       "      <th>ltable_runtime</th>\n",
       "      <th>ltable_genres</th>\n",
       "      <th>ltable_director</th>\n",
       "      <th>ltable_stars</th>\n",
       "      <th>ltable_gross</th>\n",
       "      <th>rtable_title</th>\n",
       "      <th>rtable_year</th>\n",
       "      <th>rtable_mpaa</th>\n",
       "      <th>rtable_runtime</th>\n",
       "      <th>rtable_genres</th>\n",
       "      <th>rtable_director</th>\n",
       "      <th>rtable_stars</th>\n",
       "      <th>rtable_gross</th>\n",
       "    </tr>\n",
       "  </thead>\n",
       "  <tbody>\n",
       "    <tr>\n",
       "      <th>34</th>\n",
       "      <td>34</td>\n",
       "      <td>45</td>\n",
       "      <td>3</td>\n",
       "      <td>The Hangover</td>\n",
       "      <td>2009</td>\n",
       "      <td>R</td>\n",
       "      <td>100 min</td>\n",
       "      <td>Comedy</td>\n",
       "      <td>Todd Phillips</td>\n",
       "      <td>Zach Galifianakis,Bradley Cooper,Justin Bartha,Ed Helms</td>\n",
       "      <td>$277.32M</td>\n",
       "      <td>The Daisy Chain</td>\n",
       "      <td>2009</td>\n",
       "      <td>R</td>\n",
       "      <td>-1</td>\n",
       "      <td>-1</td>\n",
       "      <td>-1</td>\n",
       "      <td>-1</td>\n",
       "      <td>-1</td>\n",
       "    </tr>\n",
       "    <tr>\n",
       "      <th>144</th>\n",
       "      <td>144</td>\n",
       "      <td>4286</td>\n",
       "      <td>3</td>\n",
       "      <td>The Loved Ones</td>\n",
       "      <td>2009</td>\n",
       "      <td>R</td>\n",
       "      <td>84 min</td>\n",
       "      <td>Horror, Thriller</td>\n",
       "      <td>Sean Byrne</td>\n",
       "      <td>Xavier Samuel,Robin McLeavy,Victoria Thaine,Jessica McNamee</td>\n",
       "      <td>-1</td>\n",
       "      <td>The Daisy Chain</td>\n",
       "      <td>2009</td>\n",
       "      <td>R</td>\n",
       "      <td>-1</td>\n",
       "      <td>-1</td>\n",
       "      <td>-1</td>\n",
       "      <td>-1</td>\n",
       "      <td>-1</td>\n",
       "    </tr>\n",
       "  </tbody>\n",
       "</table>\n",
       "</div>"
      ],
      "text/plain": [
       "     _id  ltable_id  rtable_id    ltable_title ltable_year ltable_mpaa  \\\n",
       "34    34         45          3    The Hangover        2009           R   \n",
       "144  144       4286          3  The Loved Ones        2009           R   \n",
       "\n",
       "    ltable_runtime     ltable_genres ltable_director  \\\n",
       "34         100 min            Comedy   Todd Phillips   \n",
       "144         84 min  Horror, Thriller      Sean Byrne   \n",
       "\n",
       "                                                    ltable_stars ltable_gross  \\\n",
       "34       Zach Galifianakis,Bradley Cooper,Justin Bartha,Ed Helms     $277.32M   \n",
       "144  Xavier Samuel,Robin McLeavy,Victoria Thaine,Jessica McNamee           -1   \n",
       "\n",
       "        rtable_title  rtable_year rtable_mpaa rtable_runtime rtable_genres  \\\n",
       "34   The Daisy Chain         2009           R             -1            -1   \n",
       "144  The Daisy Chain         2009           R             -1            -1   \n",
       "\n",
       "    rtable_director rtable_stars rtable_gross  \n",
       "34               -1           -1           -1  \n",
       "144              -1           -1           -1  "
      ]
     },
     "execution_count": 161,
     "metadata": {},
     "output_type": "execute_result"
    }
   ],
   "source": [
    "# Display first two rows from C2\n",
    "C2.head(2)"
   ]
  },
  {
   "cell_type": "code",
   "execution_count": 162,
   "metadata": {},
   "outputs": [],
   "source": [
    "# Updated blocking sequence\n",
    "# A, B ------ overlap blocker [title] -----> C1--\n",
    "#                                                     \n",
    "# C1 ------ overlap blocker [year] --------> C2--\n",
    "#\n",
    "# C2 ------ overlap blocker [mpaa] --------> C3--"
   ]
  },
  {
   "cell_type": "code",
   "execution_count": 163,
   "metadata": {},
   "outputs": [
    {
     "name": "stderr",
     "output_type": "stream",
     "text": [
      "0% [##############################] 100% | ETA: 00:00:00\n",
      "Total time elapsed: 00:00:04\n"
     ]
    },
    {
     "data": {
      "text/plain": [
       "27767"
      ]
     },
     "execution_count": 163,
     "metadata": {},
     "output_type": "execute_result"
    }
   ],
   "source": [
    "# Create overlap blocker\n",
    "ob = em.OverlapBlocker()\n",
    "\n",
    "# Block tables using 'name' attribute \n",
    "C3 = ob.block_candset(C2, 'mpaa', 'mpaa' \n",
    "                    )\n",
    "len(C3)"
   ]
  },
  {
   "cell_type": "code",
   "execution_count": 164,
   "metadata": {},
   "outputs": [
    {
     "data": {
      "text/html": [
       "<div>\n",
       "<style scoped>\n",
       "    .dataframe tbody tr th:only-of-type {\n",
       "        vertical-align: middle;\n",
       "    }\n",
       "\n",
       "    .dataframe tbody tr th {\n",
       "        vertical-align: top;\n",
       "    }\n",
       "\n",
       "    .dataframe thead th {\n",
       "        text-align: right;\n",
       "    }\n",
       "</style>\n",
       "<table border=\"1\" class=\"dataframe\">\n",
       "  <thead>\n",
       "    <tr style=\"text-align: right;\">\n",
       "      <th></th>\n",
       "      <th>_id</th>\n",
       "      <th>ltable_id</th>\n",
       "      <th>rtable_id</th>\n",
       "      <th>ltable_title</th>\n",
       "      <th>ltable_year</th>\n",
       "      <th>ltable_mpaa</th>\n",
       "      <th>ltable_runtime</th>\n",
       "      <th>ltable_genres</th>\n",
       "      <th>ltable_director</th>\n",
       "      <th>ltable_stars</th>\n",
       "      <th>ltable_gross</th>\n",
       "      <th>rtable_title</th>\n",
       "      <th>rtable_year</th>\n",
       "      <th>rtable_mpaa</th>\n",
       "      <th>rtable_runtime</th>\n",
       "      <th>rtable_genres</th>\n",
       "      <th>rtable_director</th>\n",
       "      <th>rtable_stars</th>\n",
       "      <th>rtable_gross</th>\n",
       "    </tr>\n",
       "  </thead>\n",
       "  <tbody>\n",
       "    <tr>\n",
       "      <th>34</th>\n",
       "      <td>34</td>\n",
       "      <td>45</td>\n",
       "      <td>3</td>\n",
       "      <td>The Hangover</td>\n",
       "      <td>2009</td>\n",
       "      <td>R</td>\n",
       "      <td>100 min</td>\n",
       "      <td>Comedy</td>\n",
       "      <td>Todd Phillips</td>\n",
       "      <td>Zach Galifianakis,Bradley Cooper,Justin Bartha,Ed Helms</td>\n",
       "      <td>$277.32M</td>\n",
       "      <td>The Daisy Chain</td>\n",
       "      <td>2009</td>\n",
       "      <td>R</td>\n",
       "      <td>-1</td>\n",
       "      <td>-1</td>\n",
       "      <td>-1</td>\n",
       "      <td>-1</td>\n",
       "      <td>-1</td>\n",
       "    </tr>\n",
       "    <tr>\n",
       "      <th>144</th>\n",
       "      <td>144</td>\n",
       "      <td>4286</td>\n",
       "      <td>3</td>\n",
       "      <td>The Loved Ones</td>\n",
       "      <td>2009</td>\n",
       "      <td>R</td>\n",
       "      <td>84 min</td>\n",
       "      <td>Horror, Thriller</td>\n",
       "      <td>Sean Byrne</td>\n",
       "      <td>Xavier Samuel,Robin McLeavy,Victoria Thaine,Jessica McNamee</td>\n",
       "      <td>-1</td>\n",
       "      <td>The Daisy Chain</td>\n",
       "      <td>2009</td>\n",
       "      <td>R</td>\n",
       "      <td>-1</td>\n",
       "      <td>-1</td>\n",
       "      <td>-1</td>\n",
       "      <td>-1</td>\n",
       "      <td>-1</td>\n",
       "    </tr>\n",
       "  </tbody>\n",
       "</table>\n",
       "</div>"
      ],
      "text/plain": [
       "     _id  ltable_id  rtable_id    ltable_title ltable_year ltable_mpaa  \\\n",
       "34    34         45          3    The Hangover        2009           R   \n",
       "144  144       4286          3  The Loved Ones        2009           R   \n",
       "\n",
       "    ltable_runtime     ltable_genres ltable_director  \\\n",
       "34         100 min            Comedy   Todd Phillips   \n",
       "144         84 min  Horror, Thriller      Sean Byrne   \n",
       "\n",
       "                                                    ltable_stars ltable_gross  \\\n",
       "34       Zach Galifianakis,Bradley Cooper,Justin Bartha,Ed Helms     $277.32M   \n",
       "144  Xavier Samuel,Robin McLeavy,Victoria Thaine,Jessica McNamee           -1   \n",
       "\n",
       "        rtable_title  rtable_year rtable_mpaa rtable_runtime rtable_genres  \\\n",
       "34   The Daisy Chain         2009           R             -1            -1   \n",
       "144  The Daisy Chain         2009           R             -1            -1   \n",
       "\n",
       "    rtable_director rtable_stars rtable_gross  \n",
       "34               -1           -1           -1  \n",
       "144              -1           -1           -1  "
      ]
     },
     "execution_count": 164,
     "metadata": {},
     "output_type": "execute_result"
    }
   ],
   "source": [
    "# Display first two rows from C3\n",
    "C3.head(2)"
   ]
  },
  {
   "cell_type": "markdown",
   "metadata": {},
   "source": [
    "We observe that the current blocker sequence does not drop obvious potential matches, and we can proceed with the matching step now. A subtle point to note here is, debugging blocker output practically provides a stopping criteria for modifying the blocker sequence.\n"
   ]
  },
  {
   "cell_type": "markdown",
   "metadata": {},
   "source": [
    "# Matching tuple pairs in the candidate set"
   ]
  },
  {
   "cell_type": "markdown",
   "metadata": {},
   "source": [
    "In this step, we would want to match the tuple pairs in the candidate set. Specifically, we use learning-based method for matching purposes.\n",
    "This typically involves the following five steps:\n",
    "1. Sampling and labeling the candidate set\n",
    "2. Splitting the labeled data into development and evaluation set\n",
    "3. Selecting the best learning based matcher using the development set\n",
    "4. Evaluating the selected matcher using the evaluation set"
   ]
  },
  {
   "cell_type": "markdown",
   "metadata": {},
   "source": [
    "## Sampling and labeling the candidate set"
   ]
  },
  {
   "cell_type": "markdown",
   "metadata": {},
   "source": [
    "First, we randomly sample 600 tuple pairs for labeling purposes."
   ]
  },
  {
   "cell_type": "code",
   "execution_count": 169,
   "metadata": {},
   "outputs": [],
   "source": [
    "# Sample  candidate set\n",
    "S = em.sample_table(C3, 600)"
   ]
  },
  {
   "cell_type": "code",
   "execution_count": 205,
   "metadata": {},
   "outputs": [],
   "source": [
    "if GENERATE_NEW_LABELED_DATA:\n",
    "    # Label S interactively. \n",
    "    G = em.label_table(S, 'gold')\n",
    "    #SAVE! TIS A BITCH TO LABEL S AGAIN, AND IT NEEDS TO BE LABELED WITHIN THE UI!\n",
    "    em.save_table(G, './G.pkl', metadata_ext='.pklmeta')\n",
    "else:\n",
    "    G = em.load_table('./G.pkl', metadata_ext='.pklmeta')"
   ]
  },
  {
   "cell_type": "markdown",
   "metadata": {},
   "source": [
    "## Splitting the labeled data into development and evaluation set"
   ]
  },
  {
   "cell_type": "markdown",
   "metadata": {},
   "source": [
    "In this step, we split the labeled data into two sets: development (I) and evaluation (J). Specifically, the development set is used to come up with the best learning-based matcher and the evaluation set used to evaluate the selected matcher on unseen data."
   ]
  },
  {
   "cell_type": "code",
   "execution_count": 189,
   "metadata": {},
   "outputs": [
    {
     "name": "stdout",
     "output_type": "stream",
     "text": [
      "27\n",
      "17\n"
     ]
    }
   ],
   "source": [
    "# Split S into development set (I) and evaluation set (J)\n",
    "IJ = em.split_train_test(G, train_proportion=0.6, random_state=0)\n",
    "I = IJ['train']\n",
    "J = IJ['test']\n",
    "print(len(I[I['gold']==1]))\n",
    "print(len(J[J['gold']==1]))"
   ]
  },
  {
   "cell_type": "markdown",
   "metadata": {},
   "source": [
    "## Selecting the best learning-based matcher "
   ]
  },
  {
   "cell_type": "markdown",
   "metadata": {},
   "source": [
    "Selecting the best learning-based matcher typically involves the following steps:\n",
    "\n",
    "1. Creating a set of learning-based matchers\n",
    "2. Creating features\n",
    "3. Converting the development set into feature vectors\n",
    "4. Selecting the best learning-based matcher using k-fold cross validation"
   ]
  },
  {
   "cell_type": "markdown",
   "metadata": {},
   "source": [
    "### Creating a set of learning-based matchers"
   ]
  },
  {
   "cell_type": "code",
   "execution_count": 190,
   "metadata": {},
   "outputs": [],
   "source": [
    "# Create a set of ML-matchers\n",
    "dt = em.DTMatcher(name='DecisionTree', random_state=0)\n",
    "svm = em.SVMMatcher(name='SVM', random_state=0)\n",
    "rf = em.RFMatcher(name='RF', random_state=0)\n",
    "lg = em.LogRegMatcher(name='LogReg', random_state=0)\n",
    "ln = em.LinRegMatcher(name='LinReg')\n",
    "nb = em.NBMatcher(name='NaiveBayes')"
   ]
  },
  {
   "cell_type": "markdown",
   "metadata": {},
   "source": [
    "### Creating features"
   ]
  },
  {
   "cell_type": "markdown",
   "metadata": {},
   "source": [
    "Next, we need to create a set of features for the development set. *py_entitymatching* provides a way to automatically generate features based on the attributes in the input tables. For the purposes of this guide, we use the automatically generated features."
   ]
  },
  {
   "cell_type": "code",
   "execution_count": 191,
   "metadata": {},
   "outputs": [],
   "source": [
    "# Generate features\n",
    "feature_table = em.get_features_for_matching(A, B, validate_inferred_attr_types=False)"
   ]
  },
  {
   "cell_type": "code",
   "execution_count": 192,
   "metadata": {},
   "outputs": [
    {
     "data": {
      "text/plain": [
       "0                                 id_id_exm\n",
       "1                                 id_id_anm\n",
       "2                            id_id_lev_dist\n",
       "3                             id_id_lev_sim\n",
       "4               title_title_jac_qgm_3_qgm_3\n",
       "5           title_title_cos_dlm_dc0_dlm_dc0\n",
       "6           title_title_jac_dlm_dc0_dlm_dc0\n",
       "7                           title_title_mel\n",
       "8                      title_title_lev_dist\n",
       "9                       title_title_lev_sim\n",
       "10                          title_title_nmw\n",
       "11                           title_title_sw\n",
       "12                mpaa_mpaa_jac_qgm_3_qgm_3\n",
       "13            mpaa_mpaa_cos_dlm_dc0_dlm_dc0\n",
       "14            mpaa_mpaa_jac_dlm_dc0_dlm_dc0\n",
       "15                            mpaa_mpaa_mel\n",
       "16                       mpaa_mpaa_lev_dist\n",
       "17                        mpaa_mpaa_lev_sim\n",
       "18                            mpaa_mpaa_nmw\n",
       "19                             mpaa_mpaa_sw\n",
       "20          runtime_runtime_jac_qgm_3_qgm_3\n",
       "21      runtime_runtime_cos_dlm_dc0_dlm_dc0\n",
       "22      runtime_runtime_jac_dlm_dc0_dlm_dc0\n",
       "23                      runtime_runtime_mel\n",
       "24                 runtime_runtime_lev_dist\n",
       "25                  runtime_runtime_lev_sim\n",
       "26                      runtime_runtime_nmw\n",
       "27                       runtime_runtime_sw\n",
       "28            genres_genres_jac_qgm_3_qgm_3\n",
       "29        genres_genres_cos_dlm_dc0_dlm_dc0\n",
       "30        genres_genres_jac_dlm_dc0_dlm_dc0\n",
       "31                        genres_genres_mel\n",
       "32                   genres_genres_lev_dist\n",
       "33                    genres_genres_lev_sim\n",
       "34                        genres_genres_nmw\n",
       "35                         genres_genres_sw\n",
       "36        director_director_jac_qgm_3_qgm_3\n",
       "37    director_director_cos_dlm_dc0_dlm_dc0\n",
       "38    director_director_jac_dlm_dc0_dlm_dc0\n",
       "39                    director_director_mel\n",
       "40               director_director_lev_dist\n",
       "41                director_director_lev_sim\n",
       "42                    director_director_nmw\n",
       "43                     director_director_sw\n",
       "44                     gross_gross_lev_dist\n",
       "45                      gross_gross_lev_sim\n",
       "46                          gross_gross_jar\n",
       "47                          gross_gross_jwn\n",
       "48                          gross_gross_exm\n",
       "49              gross_gross_jac_qgm_3_qgm_3\n",
       "Name: feature_name, dtype: object"
      ]
     },
     "execution_count": 192,
     "metadata": {},
     "output_type": "execute_result"
    }
   ],
   "source": [
    "# List the names of the features generated\n",
    "feature_table['feature_name']"
   ]
  },
  {
   "cell_type": "markdown",
   "metadata": {},
   "source": [
    "### Converting the development set to feature vectors"
   ]
  },
  {
   "cell_type": "code",
   "execution_count": 193,
   "metadata": {},
   "outputs": [],
   "source": [
    "# Convert the I into a set of feature vectors using F\n",
    "H = em.extract_feature_vecs(I, \n",
    "                            feature_table=feature_table, \n",
    "                            attrs_after='gold',\n",
    "                            show_progress=False)"
   ]
  },
  {
   "cell_type": "code",
   "execution_count": 194,
   "metadata": {},
   "outputs": [
    {
     "data": {
      "text/html": [
       "<div>\n",
       "<style scoped>\n",
       "    .dataframe tbody tr th:only-of-type {\n",
       "        vertical-align: middle;\n",
       "    }\n",
       "\n",
       "    .dataframe tbody tr th {\n",
       "        vertical-align: top;\n",
       "    }\n",
       "\n",
       "    .dataframe thead th {\n",
       "        text-align: right;\n",
       "    }\n",
       "</style>\n",
       "<table border=\"1\" class=\"dataframe\">\n",
       "  <thead>\n",
       "    <tr style=\"text-align: right;\">\n",
       "      <th></th>\n",
       "      <th>_id</th>\n",
       "      <th>ltable_id</th>\n",
       "      <th>rtable_id</th>\n",
       "      <th>id_id_exm</th>\n",
       "      <th>id_id_anm</th>\n",
       "      <th>id_id_lev_dist</th>\n",
       "      <th>id_id_lev_sim</th>\n",
       "      <th>title_title_jac_qgm_3_qgm_3</th>\n",
       "      <th>title_title_cos_dlm_dc0_dlm_dc0</th>\n",
       "      <th>title_title_jac_dlm_dc0_dlm_dc0</th>\n",
       "      <th>...</th>\n",
       "      <th>director_director_lev_sim</th>\n",
       "      <th>director_director_nmw</th>\n",
       "      <th>director_director_sw</th>\n",
       "      <th>gross_gross_lev_dist</th>\n",
       "      <th>gross_gross_lev_sim</th>\n",
       "      <th>gross_gross_jar</th>\n",
       "      <th>gross_gross_jwn</th>\n",
       "      <th>gross_gross_exm</th>\n",
       "      <th>gross_gross_jac_qgm_3_qgm_3</th>\n",
       "      <th>gold</th>\n",
       "    </tr>\n",
       "  </thead>\n",
       "  <tbody>\n",
       "    <tr>\n",
       "      <th>3377902</th>\n",
       "      <td>3377902</td>\n",
       "      <td>104</td>\n",
       "      <td>9535</td>\n",
       "      <td>0</td>\n",
       "      <td>0.010907</td>\n",
       "      <td>4</td>\n",
       "      <td>0.00</td>\n",
       "      <td>0.075000</td>\n",
       "      <td>0.25</td>\n",
       "      <td>0.142857</td>\n",
       "      <td>...</td>\n",
       "      <td>0.000000</td>\n",
       "      <td>-13.0</td>\n",
       "      <td>0.0</td>\n",
       "      <td>7.0</td>\n",
       "      <td>0.000</td>\n",
       "      <td>0.000000</td>\n",
       "      <td>0.000000</td>\n",
       "      <td>0</td>\n",
       "      <td>0.00</td>\n",
       "      <td>0</td>\n",
       "    </tr>\n",
       "    <tr>\n",
       "      <th>1770424</th>\n",
       "      <td>1770424</td>\n",
       "      <td>2703</td>\n",
       "      <td>5046</td>\n",
       "      <td>0</td>\n",
       "      <td>0.535672</td>\n",
       "      <td>4</td>\n",
       "      <td>0.00</td>\n",
       "      <td>0.294118</td>\n",
       "      <td>0.50</td>\n",
       "      <td>0.333333</td>\n",
       "      <td>...</td>\n",
       "      <td>0.352941</td>\n",
       "      <td>3.0</td>\n",
       "      <td>5.0</td>\n",
       "      <td>9.0</td>\n",
       "      <td>0.100</td>\n",
       "      <td>0.495238</td>\n",
       "      <td>0.545714</td>\n",
       "      <td>0</td>\n",
       "      <td>0.05</td>\n",
       "      <td>0</td>\n",
       "    </tr>\n",
       "    <tr>\n",
       "      <th>1698498</th>\n",
       "      <td>1698498</td>\n",
       "      <td>2844</td>\n",
       "      <td>4826</td>\n",
       "      <td>0</td>\n",
       "      <td>0.589308</td>\n",
       "      <td>3</td>\n",
       "      <td>0.25</td>\n",
       "      <td>0.121951</td>\n",
       "      <td>0.25</td>\n",
       "      <td>0.142857</td>\n",
       "      <td>...</td>\n",
       "      <td>0.000000</td>\n",
       "      <td>-14.0</td>\n",
       "      <td>0.0</td>\n",
       "      <td>7.0</td>\n",
       "      <td>0.125</td>\n",
       "      <td>0.541667</td>\n",
       "      <td>0.541667</td>\n",
       "      <td>0</td>\n",
       "      <td>0.00</td>\n",
       "      <td>0</td>\n",
       "    </tr>\n",
       "  </tbody>\n",
       "</table>\n",
       "<p>3 rows × 54 columns</p>\n",
       "</div>"
      ],
      "text/plain": [
       "             _id  ltable_id  rtable_id  id_id_exm  id_id_anm  id_id_lev_dist  \\\n",
       "3377902  3377902        104       9535          0   0.010907               4   \n",
       "1770424  1770424       2703       5046          0   0.535672               4   \n",
       "1698498  1698498       2844       4826          0   0.589308               3   \n",
       "\n",
       "         id_id_lev_sim  title_title_jac_qgm_3_qgm_3  \\\n",
       "3377902           0.00                     0.075000   \n",
       "1770424           0.00                     0.294118   \n",
       "1698498           0.25                     0.121951   \n",
       "\n",
       "         title_title_cos_dlm_dc0_dlm_dc0  title_title_jac_dlm_dc0_dlm_dc0  \\\n",
       "3377902                             0.25                         0.142857   \n",
       "1770424                             0.50                         0.333333   \n",
       "1698498                             0.25                         0.142857   \n",
       "\n",
       "         ...   director_director_lev_sim  director_director_nmw  \\\n",
       "3377902  ...                    0.000000                  -13.0   \n",
       "1770424  ...                    0.352941                    3.0   \n",
       "1698498  ...                    0.000000                  -14.0   \n",
       "\n",
       "         director_director_sw  gross_gross_lev_dist  gross_gross_lev_sim  \\\n",
       "3377902                   0.0                   7.0                0.000   \n",
       "1770424                   5.0                   9.0                0.100   \n",
       "1698498                   0.0                   7.0                0.125   \n",
       "\n",
       "         gross_gross_jar  gross_gross_jwn  gross_gross_exm  \\\n",
       "3377902         0.000000         0.000000                0   \n",
       "1770424         0.495238         0.545714                0   \n",
       "1698498         0.541667         0.541667                0   \n",
       "\n",
       "         gross_gross_jac_qgm_3_qgm_3  gold  \n",
       "3377902                         0.00     0  \n",
       "1770424                         0.05     0  \n",
       "1698498                         0.00     0  \n",
       "\n",
       "[3 rows x 54 columns]"
      ]
     },
     "execution_count": 194,
     "metadata": {},
     "output_type": "execute_result"
    }
   ],
   "source": [
    "# Display first few rows\n",
    "H.head(3)"
   ]
  },
  {
   "cell_type": "markdown",
   "metadata": {},
   "source": [
    "### Selecting the best matcher using cross-validation"
   ]
  },
  {
   "cell_type": "markdown",
   "metadata": {},
   "source": [
    "Now, we select the best matcher using k-fold cross-validation. For the purposes of this guide, we use five fold cross validation and use 'precision' and 'recall' metric to select the best matcher."
   ]
  },
  {
   "cell_type": "code",
   "execution_count": 195,
   "metadata": {},
   "outputs": [
    {
     "name": "stderr",
     "output_type": "stream",
     "text": [
      "/anaconda2/lib/python2.7/site-packages/sklearn/metrics/classification.py:1135: UndefinedMetricWarning: Precision is ill-defined and being set to 0.0 due to no predicted samples.\n",
      "  'precision', 'predicted', average, warn_for)\n",
      "/anaconda2/lib/python2.7/site-packages/sklearn/metrics/classification.py:1135: UndefinedMetricWarning: Precision is ill-defined and being set to 0.0 due to no predicted samples.\n",
      "  'precision', 'predicted', average, warn_for)\n",
      "/anaconda2/lib/python2.7/site-packages/sklearn/metrics/classification.py:1135: UndefinedMetricWarning: Precision is ill-defined and being set to 0.0 due to no predicted samples.\n",
      "  'precision', 'predicted', average, warn_for)\n",
      "/anaconda2/lib/python2.7/site-packages/scipy/linalg/basic.py:1226: RuntimeWarning: internal gelsd driver lwork query error, required iwork dimension not returned. This is likely the result of LAPACK bug 0038, fixed in LAPACK 3.2.2 (released July 21, 2010). Falling back to 'gelss' driver.\n",
      "  warnings.warn(mesg, RuntimeWarning)\n",
      "/anaconda2/lib/python2.7/site-packages/scipy/linalg/basic.py:1226: RuntimeWarning: internal gelsd driver lwork query error, required iwork dimension not returned. This is likely the result of LAPACK bug 0038, fixed in LAPACK 3.2.2 (released July 21, 2010). Falling back to 'gelss' driver.\n",
      "  warnings.warn(mesg, RuntimeWarning)\n",
      "/anaconda2/lib/python2.7/site-packages/scipy/linalg/basic.py:1226: RuntimeWarning: internal gelsd driver lwork query error, required iwork dimension not returned. This is likely the result of LAPACK bug 0038, fixed in LAPACK 3.2.2 (released July 21, 2010). Falling back to 'gelss' driver.\n",
      "  warnings.warn(mesg, RuntimeWarning)\n",
      "/anaconda2/lib/python2.7/site-packages/scipy/linalg/basic.py:1226: RuntimeWarning: internal gelsd driver lwork query error, required iwork dimension not returned. This is likely the result of LAPACK bug 0038, fixed in LAPACK 3.2.2 (released July 21, 2010). Falling back to 'gelss' driver.\n",
      "  warnings.warn(mesg, RuntimeWarning)\n",
      "/anaconda2/lib/python2.7/site-packages/scipy/linalg/basic.py:1226: RuntimeWarning: internal gelsd driver lwork query error, required iwork dimension not returned. This is likely the result of LAPACK bug 0038, fixed in LAPACK 3.2.2 (released July 21, 2010). Falling back to 'gelss' driver.\n",
      "  warnings.warn(mesg, RuntimeWarning)\n",
      "/anaconda2/lib/python2.7/site-packages/scipy/linalg/basic.py:1226: RuntimeWarning: internal gelsd driver lwork query error, required iwork dimension not returned. This is likely the result of LAPACK bug 0038, fixed in LAPACK 3.2.2 (released July 21, 2010). Falling back to 'gelss' driver.\n",
      "  warnings.warn(mesg, RuntimeWarning)\n",
      "/anaconda2/lib/python2.7/site-packages/scipy/linalg/basic.py:1226: RuntimeWarning: internal gelsd driver lwork query error, required iwork dimension not returned. This is likely the result of LAPACK bug 0038, fixed in LAPACK 3.2.2 (released July 21, 2010). Falling back to 'gelss' driver.\n",
      "  warnings.warn(mesg, RuntimeWarning)\n",
      "/anaconda2/lib/python2.7/site-packages/scipy/linalg/basic.py:1226: RuntimeWarning: internal gelsd driver lwork query error, required iwork dimension not returned. This is likely the result of LAPACK bug 0038, fixed in LAPACK 3.2.2 (released July 21, 2010). Falling back to 'gelss' driver.\n",
      "  warnings.warn(mesg, RuntimeWarning)\n",
      "/anaconda2/lib/python2.7/site-packages/scipy/linalg/basic.py:1226: RuntimeWarning: internal gelsd driver lwork query error, required iwork dimension not returned. This is likely the result of LAPACK bug 0038, fixed in LAPACK 3.2.2 (released July 21, 2010). Falling back to 'gelss' driver.\n",
      "  warnings.warn(mesg, RuntimeWarning)\n",
      "/anaconda2/lib/python2.7/site-packages/scipy/linalg/basic.py:1226: RuntimeWarning: internal gelsd driver lwork query error, required iwork dimension not returned. This is likely the result of LAPACK bug 0038, fixed in LAPACK 3.2.2 (released July 21, 2010). Falling back to 'gelss' driver.\n",
      "  warnings.warn(mesg, RuntimeWarning)\n",
      "/anaconda2/lib/python2.7/site-packages/sklearn/metrics/classification.py:1135: UndefinedMetricWarning: F-score is ill-defined and being set to 0.0 due to no predicted samples.\n",
      "  'precision', 'predicted', average, warn_for)\n",
      "/anaconda2/lib/python2.7/site-packages/sklearn/metrics/classification.py:1135: UndefinedMetricWarning: F-score is ill-defined and being set to 0.0 due to no predicted samples.\n",
      "  'precision', 'predicted', average, warn_for)\n",
      "/anaconda2/lib/python2.7/site-packages/sklearn/metrics/classification.py:1135: UndefinedMetricWarning: F-score is ill-defined and being set to 0.0 due to no predicted samples.\n",
      "  'precision', 'predicted', average, warn_for)\n",
      "/anaconda2/lib/python2.7/site-packages/scipy/linalg/basic.py:1226: RuntimeWarning: internal gelsd driver lwork query error, required iwork dimension not returned. This is likely the result of LAPACK bug 0038, fixed in LAPACK 3.2.2 (released July 21, 2010). Falling back to 'gelss' driver.\n",
      "  warnings.warn(mesg, RuntimeWarning)\n",
      "/anaconda2/lib/python2.7/site-packages/scipy/linalg/basic.py:1226: RuntimeWarning: internal gelsd driver lwork query error, required iwork dimension not returned. This is likely the result of LAPACK bug 0038, fixed in LAPACK 3.2.2 (released July 21, 2010). Falling back to 'gelss' driver.\n",
      "  warnings.warn(mesg, RuntimeWarning)\n",
      "/anaconda2/lib/python2.7/site-packages/scipy/linalg/basic.py:1226: RuntimeWarning: internal gelsd driver lwork query error, required iwork dimension not returned. This is likely the result of LAPACK bug 0038, fixed in LAPACK 3.2.2 (released July 21, 2010). Falling back to 'gelss' driver.\n",
      "  warnings.warn(mesg, RuntimeWarning)\n",
      "/anaconda2/lib/python2.7/site-packages/scipy/linalg/basic.py:1226: RuntimeWarning: internal gelsd driver lwork query error, required iwork dimension not returned. This is likely the result of LAPACK bug 0038, fixed in LAPACK 3.2.2 (released July 21, 2010). Falling back to 'gelss' driver.\n",
      "  warnings.warn(mesg, RuntimeWarning)\n",
      "/anaconda2/lib/python2.7/site-packages/scipy/linalg/basic.py:1226: RuntimeWarning: internal gelsd driver lwork query error, required iwork dimension not returned. This is likely the result of LAPACK bug 0038, fixed in LAPACK 3.2.2 (released July 21, 2010). Falling back to 'gelss' driver.\n",
      "  warnings.warn(mesg, RuntimeWarning)\n"
     ]
    },
    {
     "data": {
      "text/html": [
       "<div>\n",
       "<style scoped>\n",
       "    .dataframe tbody tr th:only-of-type {\n",
       "        vertical-align: middle;\n",
       "    }\n",
       "\n",
       "    .dataframe tbody tr th {\n",
       "        vertical-align: top;\n",
       "    }\n",
       "\n",
       "    .dataframe thead th {\n",
       "        text-align: right;\n",
       "    }\n",
       "</style>\n",
       "<table border=\"1\" class=\"dataframe\">\n",
       "  <thead>\n",
       "    <tr style=\"text-align: right;\">\n",
       "      <th></th>\n",
       "      <th>Matcher</th>\n",
       "      <th>Average precision</th>\n",
       "      <th>Average recall</th>\n",
       "      <th>Average f1</th>\n",
       "    </tr>\n",
       "  </thead>\n",
       "  <tbody>\n",
       "    <tr>\n",
       "      <th>0</th>\n",
       "      <td>DecisionTree</td>\n",
       "      <td>0.896429</td>\n",
       "      <td>0.891429</td>\n",
       "      <td>0.880830</td>\n",
       "    </tr>\n",
       "    <tr>\n",
       "      <th>1</th>\n",
       "      <td>RF</td>\n",
       "      <td>0.966667</td>\n",
       "      <td>0.880000</td>\n",
       "      <td>0.915152</td>\n",
       "    </tr>\n",
       "    <tr>\n",
       "      <th>2</th>\n",
       "      <td>SVM</td>\n",
       "      <td>0.400000</td>\n",
       "      <td>0.080000</td>\n",
       "      <td>0.133333</td>\n",
       "    </tr>\n",
       "    <tr>\n",
       "      <th>3</th>\n",
       "      <td>LinReg</td>\n",
       "      <td>0.966667</td>\n",
       "      <td>0.851429</td>\n",
       "      <td>0.899767</td>\n",
       "    </tr>\n",
       "    <tr>\n",
       "      <th>4</th>\n",
       "      <td>LogReg</td>\n",
       "      <td>0.925000</td>\n",
       "      <td>0.800000</td>\n",
       "      <td>0.823687</td>\n",
       "    </tr>\n",
       "    <tr>\n",
       "      <th>5</th>\n",
       "      <td>NaiveBayes</td>\n",
       "      <td>0.752857</td>\n",
       "      <td>0.960000</td>\n",
       "      <td>0.834359</td>\n",
       "    </tr>\n",
       "  </tbody>\n",
       "</table>\n",
       "</div>"
      ],
      "text/plain": [
       "        Matcher  Average precision  Average recall  Average f1\n",
       "0  DecisionTree           0.896429        0.891429    0.880830\n",
       "1            RF           0.966667        0.880000    0.915152\n",
       "2           SVM           0.400000        0.080000    0.133333\n",
       "3        LinReg           0.966667        0.851429    0.899767\n",
       "4        LogReg           0.925000        0.800000    0.823687\n",
       "5    NaiveBayes           0.752857        0.960000    0.834359"
      ]
     },
     "execution_count": 195,
     "metadata": {},
     "output_type": "execute_result"
    }
   ],
   "source": [
    "# Select the best ML matcher using CV\n",
    "result = em.select_matcher([dt, rf, svm, ln, lg, nb], table=H, \n",
    "        exclude_attrs=['_id', 'ltable_id', 'rtable_id', 'gold'],\n",
    "        k=5,\n",
    "        target_attr='gold', metric_to_select_matcher='f1', random_state=0)\n",
    "result['cv_stats']"
   ]
  },
  {
   "cell_type": "markdown",
   "metadata": {},
   "source": [
    "### Debugging matcher"
   ]
  },
  {
   "cell_type": "code",
   "execution_count": 196,
   "metadata": {},
   "outputs": [],
   "source": [
    "#  Split feature vectors into train and test\n",
    "UV = em.split_train_test(H, train_proportion=0.5)\n",
    "U = UV['train']\n",
    "V = UV['test']"
   ]
  },
  {
   "cell_type": "markdown",
   "metadata": {},
   "source": [
    "Next, we debug the matcher using GUI. For the purposes of this guide, we use random forest matcher for debugging purposes."
   ]
  },
  {
   "cell_type": "code",
   "execution_count": 198,
   "metadata": {},
   "outputs": [],
   "source": [
    "# Debug decision tree using GUI\n",
    "# em.vis_debug_rf(rf, U, V, \n",
    "#        exclude_attrs=['_id', 'ltable_id', 'rtable_id', 'gold'],\n",
    "#        target_attr='gold')"
   ]
  },
  {
   "cell_type": "markdown",
   "metadata": {},
   "source": [
    "##  Evaluating the matching output"
   ]
  },
  {
   "cell_type": "markdown",
   "metadata": {},
   "source": [
    "Evaluating the matching outputs for the evaluation set typically involves the following four steps:\n",
    "1. Converting the evaluation set to feature vectors\n",
    "2. Training matcher using the feature vectors extracted from the development set\n",
    "3. Predicting the evaluation set using the trained matcher\n",
    "4. Evaluating the predicted matches"
   ]
  },
  {
   "cell_type": "markdown",
   "metadata": {},
   "source": [
    "### Converting the evaluation set to  feature vectors"
   ]
  },
  {
   "cell_type": "markdown",
   "metadata": {},
   "source": [
    "As before, we convert to the feature vectors (using the feature table and the evaluation set)"
   ]
  },
  {
   "cell_type": "code",
   "execution_count": 199,
   "metadata": {},
   "outputs": [],
   "source": [
    "# Convert J into a set of feature vectors using feature table\n",
    "L = em.extract_feature_vecs(J, feature_table=feature_table,\n",
    "                            attrs_after='gold', show_progress=False)"
   ]
  },
  {
   "cell_type": "markdown",
   "metadata": {},
   "source": [
    "### Training the selected matcher"
   ]
  },
  {
   "cell_type": "markdown",
   "metadata": {},
   "source": [
    "Now, we train the matcher using all of the feature vectors from the development set. For the purposes of this guide we use random forest as the selected matcher."
   ]
  },
  {
   "cell_type": "code",
   "execution_count": 200,
   "metadata": {},
   "outputs": [],
   "source": [
    "# Train using feature vectors from I \n",
    "rf.fit(table=H, \n",
    "       exclude_attrs=['_id', 'ltable_id', 'rtable_id', 'gold'], \n",
    "       target_attr='gold')"
   ]
  },
  {
   "cell_type": "markdown",
   "metadata": {},
   "source": [
    "### Predicting the matches"
   ]
  },
  {
   "cell_type": "markdown",
   "metadata": {},
   "source": [
    "Next, we predict the matches for the evaluation set (using the feature vectors extracted from it)."
   ]
  },
  {
   "cell_type": "code",
   "execution_count": 201,
   "metadata": {},
   "outputs": [],
   "source": [
    "# Predict on L \n",
    "predictions = rf.predict(table=L, exclude_attrs=['_id', 'ltable_id', 'rtable_id', 'gold'], \n",
    "              append=True, target_attr='predicted', inplace=False)"
   ]
  },
  {
   "cell_type": "markdown",
   "metadata": {},
   "source": [
    "### Evaluating the predictions"
   ]
  },
  {
   "cell_type": "markdown",
   "metadata": {},
   "source": [
    "Finally, we evaluate the accuracy of predicted outputs"
   ]
  },
  {
   "cell_type": "code",
   "execution_count": 202,
   "metadata": {},
   "outputs": [
    {
     "name": "stdout",
     "output_type": "stream",
     "text": [
      "Precision : 94.44% (17/18)\n",
      "Recall : 100.0% (17/17)\n",
      "F1 : 97.14%\n",
      "False positives : 1 (out of 18 positive predictions)\n",
      "False negatives : 0 (out of 222 negative predictions)\n"
     ]
    }
   ],
   "source": [
    "# Evaluate the predictions\n",
    "eval_result = em.eval_matches(predictions, 'gold', 'predicted')\n",
    "em.print_eval_summary(eval_result)"
   ]
  },
  {
   "cell_type": "code",
   "execution_count": null,
   "metadata": {},
   "outputs": [],
   "source": []
  }
 ],
 "metadata": {
  "kernelspec": {
   "display_name": "Python 2",
   "language": "python",
   "name": "python2"
  },
  "language_info": {
   "codemirror_mode": {
    "name": "ipython",
    "version": 2
   },
   "file_extension": ".py",
   "mimetype": "text/x-python",
   "name": "python",
   "nbconvert_exporter": "python",
   "pygments_lexer": "ipython2",
   "version": "2.7.14"
  }
 },
 "nbformat": 4,
 "nbformat_minor": 1
}
