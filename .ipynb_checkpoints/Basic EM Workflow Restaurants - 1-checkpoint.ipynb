{
 "cells": [
  {
   "cell_type": "markdown",
   "metadata": {},
   "source": [
    "# Basic EM workflow 1 (Restaurants data set)"
   ]
  },
  {
   "cell_type": "markdown",
   "metadata": {},
   "source": [
    "# Introduction"
   ]
  },
  {
   "cell_type": "markdown",
   "metadata": {},
   "source": [
    "This IPython notebook explains a basic workflow to match two tables using *py_entitymatching*. Our goal is to match restaurants from Fodors and Zagat sites. The datasets contain information about the restaurants.\n",
    "\n",
    "First, we need to import *py_entitymatching* package and other libraries as follows:"
   ]
  },
  {
   "cell_type": "code",
   "execution_count": 3,
   "metadata": {},
   "outputs": [
    {
     "ename": "AttributeError",
     "evalue": "'module' object has no attribute 'catalog'",
     "output_type": "error",
     "traceback": [
      "\u001b[0;31m---------------------------------------------------------------------------\u001b[0m",
      "\u001b[0;31mAttributeError\u001b[0m                            Traceback (most recent call last)",
      "\u001b[0;32m<ipython-input-3-36483a772973>\u001b[0m in \u001b[0;36m<module>\u001b[0;34m()\u001b[0m\n\u001b[1;32m      2\u001b[0m \u001b[0;31m#sys.path.append('/Users/pradap/Documents/Research/Python-Package/anhaid/py_entitymatching/')\u001b[0m\u001b[0;34m\u001b[0m\u001b[0;34m\u001b[0m\u001b[0m\n\u001b[1;32m      3\u001b[0m \u001b[0;34m\u001b[0m\u001b[0m\n\u001b[0;32m----> 4\u001b[0;31m \u001b[0;32mimport\u001b[0m \u001b[0mpy_entitymatching\u001b[0m \u001b[0;32mas\u001b[0m \u001b[0mem\u001b[0m\u001b[0;34m\u001b[0m\u001b[0m\n\u001b[0m\u001b[1;32m      5\u001b[0m \u001b[0;32mimport\u001b[0m \u001b[0mpandas\u001b[0m \u001b[0;32mas\u001b[0m \u001b[0mpd\u001b[0m\u001b[0;34m\u001b[0m\u001b[0m\n\u001b[1;32m      6\u001b[0m \u001b[0;32mimport\u001b[0m \u001b[0mos\u001b[0m\u001b[0;34m\u001b[0m\u001b[0m\n",
      "\u001b[0;32m/anaconda2/lib/python2.7/site-packages/py_entitymatching/__init__.py\u001b[0m in \u001b[0;36m<module>\u001b[0;34m()\u001b[0m\n\u001b[1;32m     40\u001b[0m \u001b[0;34m\u001b[0m\u001b[0m\n\u001b[1;32m     41\u001b[0m \u001b[0;31m# # blocker debugger\u001b[0m\u001b[0;34m\u001b[0m\u001b[0;34m\u001b[0m\u001b[0m\n\u001b[0;32m---> 42\u001b[0;31m \u001b[0;32mfrom\u001b[0m \u001b[0mpy_entitymatching\u001b[0m\u001b[0;34m.\u001b[0m\u001b[0mdebugblocker\u001b[0m\u001b[0;34m.\u001b[0m\u001b[0mdebugblocker\u001b[0m \u001b[0;32mimport\u001b[0m \u001b[0mdebug_blocker\u001b[0m\u001b[0;34m\u001b[0m\u001b[0m\n\u001b[0m\u001b[1;32m     43\u001b[0m \u001b[0;34m\u001b[0m\u001b[0m\n\u001b[1;32m     44\u001b[0m \u001b[0;31m# # blocker combiner\u001b[0m\u001b[0;34m\u001b[0m\u001b[0;34m\u001b[0m\u001b[0m\n",
      "\u001b[0;32m/anaconda2/lib/python2.7/site-packages/py_entitymatching/debugblocker/debugblocker.py\u001b[0m in \u001b[0;36m<module>\u001b[0;34m()\u001b[0m\n\u001b[1;32m     10\u001b[0m \u001b[0;32mfrom\u001b[0m \u001b[0mpy_entitymatching\u001b[0m\u001b[0;34m.\u001b[0m\u001b[0mutils\u001b[0m\u001b[0;34m.\u001b[0m\u001b[0mvalidation_helper\u001b[0m \u001b[0;32mimport\u001b[0m \u001b[0mvalidate_object_type\u001b[0m\u001b[0;34m\u001b[0m\u001b[0m\n\u001b[1;32m     11\u001b[0m \u001b[0;32mimport\u001b[0m \u001b[0mpy_entitymatching\u001b[0m \u001b[0;32mas\u001b[0m \u001b[0mmg\u001b[0m\u001b[0;34m\u001b[0m\u001b[0m\n\u001b[0;32m---> 12\u001b[0;31m \u001b[0;32mimport\u001b[0m \u001b[0mpy_entitymatching\u001b[0m\u001b[0;34m.\u001b[0m\u001b[0mcatalog\u001b[0m\u001b[0;34m.\u001b[0m\u001b[0mcatalog_manager\u001b[0m \u001b[0;32mas\u001b[0m \u001b[0mcm\u001b[0m\u001b[0;34m\u001b[0m\u001b[0m\n\u001b[0m\u001b[1;32m     13\u001b[0m \u001b[0;34m\u001b[0m\u001b[0m\n\u001b[1;32m     14\u001b[0m \u001b[0;32mfrom\u001b[0m \u001b[0mpy_entitymatching\u001b[0m\u001b[0;34m.\u001b[0m\u001b[0mdebugblocker\u001b[0m\u001b[0;34m.\u001b[0m\u001b[0mdebugblocker_cython\u001b[0m \u001b[0;32mimport\u001b[0m\u001b[0;31m \u001b[0m\u001b[0;31m\\\u001b[0m\u001b[0;34m\u001b[0m\u001b[0m\n",
      "\u001b[0;31mAttributeError\u001b[0m: 'module' object has no attribute 'catalog'"
     ]
    }
   ],
   "source": [
    "import sys\n",
    "#sys.path.append('/Users/pradap/Documents/Research/Python-Package/anhaid/py_entitymatching/')\n",
    "\n",
    "import py_entitymatching as em\n",
    "import pandas as pd\n",
    "import os"
   ]
  },
  {
   "cell_type": "code",
   "execution_count": 2,
   "metadata": {},
   "outputs": [
    {
     "name": "stdout",
     "output_type": "stream",
     "text": [
      "python version: 2.7.13 | packaged by conda-forge | (default, May  2 2017, 13:29:36) \n",
      "[GCC 4.2.1 Compatible Apple LLVM 6.1.0 (clang-602.0.53)]\n",
      "pandas version: 0.20.3\n",
      "magellan version: 0.2.0\n"
     ]
    }
   ],
   "source": [
    "# Display the versions\n",
    "print('python version: ' + sys.version )\n",
    "print('pandas version: ' + pd.__version__ )\n",
    "print('magellan version: ' + em.__version__ )"
   ]
  },
  {
   "cell_type": "markdown",
   "metadata": {},
   "source": [
    "Matching two tables typically consists of the following three steps:\n",
    "\n",
    "** 1. Reading the input tables **\n",
    "\n",
    "** 2. Blocking the input tables to get a candidate set **\n",
    "\n",
    "** 3. Matching the tuple pairs in the candidate set **"
   ]
  },
  {
   "cell_type": "markdown",
   "metadata": {},
   "source": [
    "# Read input tables\n",
    "\n",
    "We begin by loading the input tables. For the purpose of this guide, we use the datasets that are included with the package."
   ]
  },
  {
   "cell_type": "code",
   "execution_count": 3,
   "metadata": {
    "collapsed": true
   },
   "outputs": [],
   "source": [
    "# Get the paths\n",
    "path_A = em.get_install_path() + os.sep + 'datasets' + os.sep + 'end-to-end' + os.sep + 'restaurants/fodors.csv'\n",
    "path_B = em.get_install_path() + os.sep + 'datasets' + os.sep + 'end-to-end' + os.sep + 'restaurants/zagats.csv'"
   ]
  },
  {
   "cell_type": "code",
   "execution_count": 4,
   "metadata": {},
   "outputs": [
    {
     "name": "stderr",
     "output_type": "stream",
     "text": [
      "No handlers could be found for logger \"py_entitymatching.io.parsers\"\n"
     ]
    }
   ],
   "source": [
    "A = em.read_csv_metadata(path_A, key='id')\n",
    "B = em.read_csv_metadata(path_B, key='id')"
   ]
  },
  {
   "cell_type": "code",
   "execution_count": 5,
   "metadata": {},
   "outputs": [
    {
     "name": "stdout",
     "output_type": "stream",
     "text": [
      "Number of tuples in A: 533\n",
      "Number of tuples in B: 331\n",
      "Number of tuples in A X B (i.e the cartesian product): 176423\n"
     ]
    }
   ],
   "source": [
    "print('Number of tuples in A: ' + str(len(A)))\n",
    "print('Number of tuples in B: ' + str(len(B)))\n",
    "print('Number of tuples in A X B (i.e the cartesian product): ' + str(len(A)*len(B)))"
   ]
  },
  {
   "cell_type": "code",
   "execution_count": 6,
   "metadata": {},
   "outputs": [
    {
     "data": {
      "text/html": [
       "<div>\n",
       "<style>\n",
       "    .dataframe thead tr:only-child th {\n",
       "        text-align: right;\n",
       "    }\n",
       "\n",
       "    .dataframe thead th {\n",
       "        text-align: left;\n",
       "    }\n",
       "\n",
       "    .dataframe tbody tr th {\n",
       "        vertical-align: top;\n",
       "    }\n",
       "</style>\n",
       "<table border=\"1\" class=\"dataframe\">\n",
       "  <thead>\n",
       "    <tr style=\"text-align: right;\">\n",
       "      <th></th>\n",
       "      <th>id</th>\n",
       "      <th>name</th>\n",
       "      <th>addr</th>\n",
       "      <th>city</th>\n",
       "      <th>phone</th>\n",
       "      <th>type</th>\n",
       "    </tr>\n",
       "  </thead>\n",
       "  <tbody>\n",
       "    <tr>\n",
       "      <th>0</th>\n",
       "      <td>534</td>\n",
       "      <td>arnie mortons of chicago</td>\n",
       "      <td>435 s. la cienega blv.</td>\n",
       "      <td>los angeles</td>\n",
       "      <td>310/246-1501</td>\n",
       "      <td>american</td>\n",
       "    </tr>\n",
       "    <tr>\n",
       "      <th>1</th>\n",
       "      <td>535</td>\n",
       "      <td>arts delicatessen</td>\n",
       "      <td>12224 ventura blvd.</td>\n",
       "      <td>studio city</td>\n",
       "      <td>818/762-1221</td>\n",
       "      <td>american</td>\n",
       "    </tr>\n",
       "    <tr>\n",
       "      <th>2</th>\n",
       "      <td>536</td>\n",
       "      <td>hotel bel-air</td>\n",
       "      <td>701 stone canyon rd.</td>\n",
       "      <td>bel air</td>\n",
       "      <td>310/472-1211</td>\n",
       "      <td>californian</td>\n",
       "    </tr>\n",
       "    <tr>\n",
       "      <th>3</th>\n",
       "      <td>537</td>\n",
       "      <td>cafe bizou</td>\n",
       "      <td>14016 ventura blvd.</td>\n",
       "      <td>sherman oaks</td>\n",
       "      <td>818/788-3536</td>\n",
       "      <td>french</td>\n",
       "    </tr>\n",
       "    <tr>\n",
       "      <th>4</th>\n",
       "      <td>538</td>\n",
       "      <td>campanile</td>\n",
       "      <td>624 s. la brea ave.</td>\n",
       "      <td>los angeles</td>\n",
       "      <td>213/938-1447</td>\n",
       "      <td>american</td>\n",
       "    </tr>\n",
       "  </tbody>\n",
       "</table>\n",
       "</div>"
      ],
      "text/plain": [
       "    id                      name                    addr          city  \\\n",
       "0  534  arnie mortons of chicago  435 s. la cienega blv.   los angeles   \n",
       "1  535         arts delicatessen     12224 ventura blvd.   studio city   \n",
       "2  536             hotel bel-air    701 stone canyon rd.       bel air   \n",
       "3  537                cafe bizou     14016 ventura blvd.  sherman oaks   \n",
       "4  538                 campanile     624 s. la brea ave.   los angeles   \n",
       "\n",
       "          phone         type  \n",
       "0  310/246-1501     american  \n",
       "1  818/762-1221     american  \n",
       "2  310/472-1211  californian  \n",
       "3  818/788-3536       french  \n",
       "4  213/938-1447     american  "
      ]
     },
     "execution_count": 6,
     "metadata": {},
     "output_type": "execute_result"
    }
   ],
   "source": [
    "A.head()"
   ]
  },
  {
   "cell_type": "code",
   "execution_count": 7,
   "metadata": {},
   "outputs": [
    {
     "data": {
      "text/html": [
       "<div>\n",
       "<style>\n",
       "    .dataframe thead tr:only-child th {\n",
       "        text-align: right;\n",
       "    }\n",
       "\n",
       "    .dataframe thead th {\n",
       "        text-align: left;\n",
       "    }\n",
       "\n",
       "    .dataframe tbody tr th {\n",
       "        vertical-align: top;\n",
       "    }\n",
       "</style>\n",
       "<table border=\"1\" class=\"dataframe\">\n",
       "  <thead>\n",
       "    <tr style=\"text-align: right;\">\n",
       "      <th></th>\n",
       "      <th>id</th>\n",
       "      <th>name</th>\n",
       "      <th>addr</th>\n",
       "      <th>city</th>\n",
       "      <th>phone</th>\n",
       "      <th>type</th>\n",
       "    </tr>\n",
       "  </thead>\n",
       "  <tbody>\n",
       "    <tr>\n",
       "      <th>0</th>\n",
       "      <td>1</td>\n",
       "      <td>apple pan  the</td>\n",
       "      <td>10801 w. pico blvd.</td>\n",
       "      <td>west la</td>\n",
       "      <td>310-475-3585</td>\n",
       "      <td>american</td>\n",
       "    </tr>\n",
       "    <tr>\n",
       "      <th>1</th>\n",
       "      <td>2</td>\n",
       "      <td>asahi ramen</td>\n",
       "      <td>2027 sawtelle blvd.</td>\n",
       "      <td>west la</td>\n",
       "      <td>310-479-2231</td>\n",
       "      <td>noodle shops</td>\n",
       "    </tr>\n",
       "    <tr>\n",
       "      <th>2</th>\n",
       "      <td>3</td>\n",
       "      <td>baja fresh</td>\n",
       "      <td>3345 kimber dr.</td>\n",
       "      <td>westlake village</td>\n",
       "      <td>805-498-4049</td>\n",
       "      <td>mexican</td>\n",
       "    </tr>\n",
       "    <tr>\n",
       "      <th>3</th>\n",
       "      <td>4</td>\n",
       "      <td>belvedere  the</td>\n",
       "      <td>9882 little santa monica blvd.</td>\n",
       "      <td>beverly hills</td>\n",
       "      <td>310-788-2306</td>\n",
       "      <td>pacific new wave</td>\n",
       "    </tr>\n",
       "    <tr>\n",
       "      <th>4</th>\n",
       "      <td>5</td>\n",
       "      <td>benitas frites</td>\n",
       "      <td>1433 third st. promenade</td>\n",
       "      <td>santa monica</td>\n",
       "      <td>310-458-2889</td>\n",
       "      <td>fast food</td>\n",
       "    </tr>\n",
       "  </tbody>\n",
       "</table>\n",
       "</div>"
      ],
      "text/plain": [
       "   id            name                            addr              city  \\\n",
       "0   1  apple pan  the             10801 w. pico blvd.           west la   \n",
       "1   2     asahi ramen             2027 sawtelle blvd.           west la   \n",
       "2   3      baja fresh                 3345 kimber dr.  westlake village   \n",
       "3   4  belvedere  the  9882 little santa monica blvd.     beverly hills   \n",
       "4   5  benitas frites        1433 third st. promenade      santa monica   \n",
       "\n",
       "          phone              type  \n",
       "0  310-475-3585          american  \n",
       "1  310-479-2231      noodle shops  \n",
       "2  805-498-4049           mexican  \n",
       "3  310-788-2306  pacific new wave  \n",
       "4  310-458-2889         fast food  "
      ]
     },
     "execution_count": 7,
     "metadata": {},
     "output_type": "execute_result"
    }
   ],
   "source": [
    "B.head()"
   ]
  },
  {
   "cell_type": "code",
   "execution_count": 8,
   "metadata": {},
   "outputs": [
    {
     "data": {
      "text/plain": [
       "('id', 'id')"
      ]
     },
     "execution_count": 8,
     "metadata": {},
     "output_type": "execute_result"
    }
   ],
   "source": [
    "# Display the keys of the input tables\n",
    "em.get_key(A), em.get_key(B)"
   ]
  },
  {
   "cell_type": "markdown",
   "metadata": {},
   "source": [
    "# Block tables to get candidate set\n",
    "\n",
    "Before we do the matching, we would like to remove the obviously non-matching tuple pairs from the input tables. This would reduce the number of tuple pairs considered for matching.\n",
    "*py_entitymatching* provides four different blockers: (1) attribute equivalence, (2) overlap, (3) rule-based, and (4) black-box. The user can mix and match these blockers to form a blocking sequence applied to input tables.\n",
    "\n",
    "For the matching problem at hand, we know that two restaurants with no overlap between the names will not match. So we decide the apply blocking over names:"
   ]
  },
  {
   "cell_type": "code",
   "execution_count": 9,
   "metadata": {},
   "outputs": [],
   "source": [
    "ob = em.OverlapBlocker()\n",
    "C = ob.block_tables(A, B, 'name', 'name', \n",
    "                    l_output_attrs=['name', 'addr', 'city', 'phone'], \n",
    "                    r_output_attrs=['name', 'addr', 'city', 'phone'],\n",
    "                    overlap_size=1, show_progress=False)"
   ]
  },
  {
   "cell_type": "code",
   "execution_count": 10,
   "metadata": {},
   "outputs": [
    {
     "data": {
      "text/html": [
       "<div>\n",
       "<style>\n",
       "    .dataframe thead tr:only-child th {\n",
       "        text-align: right;\n",
       "    }\n",
       "\n",
       "    .dataframe thead th {\n",
       "        text-align: left;\n",
       "    }\n",
       "\n",
       "    .dataframe tbody tr th {\n",
       "        vertical-align: top;\n",
       "    }\n",
       "</style>\n",
       "<table border=\"1\" class=\"dataframe\">\n",
       "  <thead>\n",
       "    <tr style=\"text-align: right;\">\n",
       "      <th></th>\n",
       "      <th>_id</th>\n",
       "      <th>ltable_id</th>\n",
       "      <th>rtable_id</th>\n",
       "      <th>ltable_name</th>\n",
       "      <th>ltable_addr</th>\n",
       "      <th>ltable_city</th>\n",
       "      <th>ltable_phone</th>\n",
       "      <th>rtable_name</th>\n",
       "      <th>rtable_addr</th>\n",
       "      <th>rtable_city</th>\n",
       "      <th>rtable_phone</th>\n",
       "    </tr>\n",
       "  </thead>\n",
       "  <tbody>\n",
       "    <tr>\n",
       "      <th>0</th>\n",
       "      <td>0</td>\n",
       "      <td>543</td>\n",
       "      <td>1</td>\n",
       "      <td>grill on the alley</td>\n",
       "      <td>9560 dayton way</td>\n",
       "      <td>los angeles</td>\n",
       "      <td>310/276-0615</td>\n",
       "      <td>apple pan  the</td>\n",
       "      <td>10801 w. pico blvd.</td>\n",
       "      <td>west la</td>\n",
       "      <td>310-475-3585</td>\n",
       "    </tr>\n",
       "    <tr>\n",
       "      <th>1</th>\n",
       "      <td>1</td>\n",
       "      <td>549</td>\n",
       "      <td>1</td>\n",
       "      <td>the palm</td>\n",
       "      <td>9001 santa monica blvd.</td>\n",
       "      <td>los angeles</td>\n",
       "      <td>310/550-8811</td>\n",
       "      <td>apple pan  the</td>\n",
       "      <td>10801 w. pico blvd.</td>\n",
       "      <td>west la</td>\n",
       "      <td>310-475-3585</td>\n",
       "    </tr>\n",
       "    <tr>\n",
       "      <th>2</th>\n",
       "      <td>2</td>\n",
       "      <td>551</td>\n",
       "      <td>1</td>\n",
       "      <td>philippes the original</td>\n",
       "      <td>1001 n. alameda st.</td>\n",
       "      <td>los angeles</td>\n",
       "      <td>213/628-3781</td>\n",
       "      <td>apple pan  the</td>\n",
       "      <td>10801 w. pico blvd.</td>\n",
       "      <td>west la</td>\n",
       "      <td>310-475-3585</td>\n",
       "    </tr>\n",
       "    <tr>\n",
       "      <th>3</th>\n",
       "      <td>3</td>\n",
       "      <td>595</td>\n",
       "      <td>1</td>\n",
       "      <td>sign of the dove</td>\n",
       "      <td>1110 3rd ave. at 65th st.</td>\n",
       "      <td>new york</td>\n",
       "      <td>212/861-8080</td>\n",
       "      <td>apple pan  the</td>\n",
       "      <td>10801 w. pico blvd.</td>\n",
       "      <td>west la</td>\n",
       "      <td>310-475-3585</td>\n",
       "    </tr>\n",
       "    <tr>\n",
       "      <th>4</th>\n",
       "      <td>4</td>\n",
       "      <td>597</td>\n",
       "      <td>1</td>\n",
       "      <td>tavern on the green</td>\n",
       "      <td>in central park at 67th st.</td>\n",
       "      <td>new york</td>\n",
       "      <td>212/873-3200</td>\n",
       "      <td>apple pan  the</td>\n",
       "      <td>10801 w. pico blvd.</td>\n",
       "      <td>west la</td>\n",
       "      <td>310-475-3585</td>\n",
       "    </tr>\n",
       "  </tbody>\n",
       "</table>\n",
       "</div>"
      ],
      "text/plain": [
       "   _id  ltable_id  rtable_id             ltable_name  \\\n",
       "0    0        543          1      grill on the alley   \n",
       "1    1        549          1                the palm   \n",
       "2    2        551          1  philippes the original   \n",
       "3    3        595          1        sign of the dove   \n",
       "4    4        597          1     tavern on the green   \n",
       "\n",
       "                   ltable_addr  ltable_city  ltable_phone     rtable_name  \\\n",
       "0              9560 dayton way  los angeles  310/276-0615  apple pan  the   \n",
       "1      9001 santa monica blvd.  los angeles  310/550-8811  apple pan  the   \n",
       "2          1001 n. alameda st.  los angeles  213/628-3781  apple pan  the   \n",
       "3    1110 3rd ave. at 65th st.     new york  212/861-8080  apple pan  the   \n",
       "4  in central park at 67th st.     new york  212/873-3200  apple pan  the   \n",
       "\n",
       "           rtable_addr rtable_city  rtable_phone  \n",
       "0  10801 w. pico blvd.     west la  310-475-3585  \n",
       "1  10801 w. pico blvd.     west la  310-475-3585  \n",
       "2  10801 w. pico blvd.     west la  310-475-3585  \n",
       "3  10801 w. pico blvd.     west la  310-475-3585  \n",
       "4  10801 w. pico blvd.     west la  310-475-3585  "
      ]
     },
     "execution_count": 10,
     "metadata": {},
     "output_type": "execute_result"
    }
   ],
   "source": [
    "C.head()"
   ]
  },
  {
   "cell_type": "markdown",
   "metadata": {},
   "source": [
    "# Match tuple pairs in candidate set"
   ]
  },
  {
   "cell_type": "markdown",
   "metadata": {},
   "source": [
    "In this step, we would want to match the tuple pairs in the candidate set. Specifically, we use learning-based method for matching purposes.\n",
    "This typically involves the following four steps:\n",
    "\n",
    "1. Sampling and labeling the candidate set\n",
    "2. Train matcher using labeled data\n",
    "3. Predict the matches in the candidate set using trained matcher"
   ]
  },
  {
   "cell_type": "markdown",
   "metadata": {},
   "source": [
    "## Sampling and labeling the candidate set"
   ]
  },
  {
   "cell_type": "markdown",
   "metadata": {},
   "source": [
    "First, we randomly sample 450 tuple pairs for labeling purposes."
   ]
  },
  {
   "cell_type": "code",
   "execution_count": 11,
   "metadata": {
    "collapsed": true
   },
   "outputs": [],
   "source": [
    "# Sample  candidate set\n",
    "S = em.sample_table(C, 450)"
   ]
  },
  {
   "cell_type": "markdown",
   "metadata": {},
   "source": [
    "Next, we label the sampled candidate set. Specify we would enter 1 for a match and 0 for a non-match."
   ]
  },
  {
   "cell_type": "code",
   "execution_count": 12,
   "metadata": {},
   "outputs": [],
   "source": [
    "# Label S\n",
    "G = em.label_table(S, 'gold')"
   ]
  },
  {
   "cell_type": "markdown",
   "metadata": {},
   "source": [
    "For the purposes of this guide, we will load in a pre-labeled dataset (of 450 tuple pairs) included in this package."
   ]
  },
  {
   "cell_type": "code",
   "execution_count": 12,
   "metadata": {},
   "outputs": [
    {
     "data": {
      "text/plain": [
       "450"
      ]
     },
     "execution_count": 12,
     "metadata": {},
     "output_type": "execute_result"
    }
   ],
   "source": [
    "path_G = em.get_install_path() + os.sep + 'datasets' + os.sep + 'end-to-end' + os.sep + 'restaurants/lbl_restnt_wf1.csv'\n",
    "G = em.read_csv_metadata(path_G, \n",
    "                         key='_id',\n",
    "                         ltable=A, rtable=B, \n",
    "                         fk_ltable='ltable_id', fk_rtable='rtable_id')\n",
    "len(G)"
   ]
  },
  {
   "cell_type": "markdown",
   "metadata": {},
   "source": [
    "## Train matcher using labeled data"
   ]
  },
  {
   "cell_type": "markdown",
   "metadata": {},
   "source": [
    "First, we need to create a set of features.*py_entitymatching* provides a way to automatically generate features based on the attributes in the input tables. For the purposes of this guide, we use the automatically generated features."
   ]
  },
  {
   "cell_type": "code",
   "execution_count": 13,
   "metadata": {
    "collapsed": true
   },
   "outputs": [],
   "source": [
    "# Generate features automatically \n",
    "feature_table = em.get_features_for_matching(A, B, validate_inferred_attr_types=False)"
   ]
  },
  {
   "cell_type": "markdown",
   "metadata": {},
   "source": [
    "Next, we convert the labeled data to feature vectors using the feature table"
   ]
  },
  {
   "cell_type": "code",
   "execution_count": 14,
   "metadata": {
    "collapsed": true
   },
   "outputs": [],
   "source": [
    "# Select the attrs. to be included in the feature vector table\n",
    "attrs_from_table = ['ltable_name', 'ltable_addr', 'ltable_city', 'ltable_phone',\n",
    "                    'rtable_name', 'rtable_addr', 'rtable_city', 'rtable_phone']\n",
    "# Convert the labeled data to feature vectors using the feature table\n",
    "H = em.extract_feature_vecs(G, \n",
    "                            feature_table=feature_table, \n",
    "                            attrs_before = attrs_from_table,\n",
    "                            attrs_after='gold',\n",
    "                            show_progress=False)"
   ]
  },
  {
   "cell_type": "markdown",
   "metadata": {},
   "source": [
    "Then, we train the learning-based matcher using the feature vectors. For the purposes of the guide, we will use Random Forest matcher that is included in the *py_entitymatching* package."
   ]
  },
  {
   "cell_type": "code",
   "execution_count": 15,
   "metadata": {},
   "outputs": [],
   "source": [
    "# Instantiate the RF Matcher\n",
    "rf = em.RFMatcher()"
   ]
  },
  {
   "cell_type": "code",
   "execution_count": 16,
   "metadata": {
    "collapsed": true
   },
   "outputs": [],
   "source": [
    "# Get the attributes to be projected while training\n",
    "attrs_to_be_excluded = []\n",
    "attrs_to_be_excluded.extend(['_id', 'ltable_id', 'rtable_id', 'gold'])\n",
    "attrs_to_be_excluded.extend(attrs_from_table)"
   ]
  },
  {
   "cell_type": "code",
   "execution_count": 17,
   "metadata": {},
   "outputs": [],
   "source": [
    "# Train using feature vectors from the labeled data.\n",
    "rf.fit(table=H, exclude_attrs=attrs_to_be_excluded, target_attr='gold')"
   ]
  },
  {
   "cell_type": "markdown",
   "metadata": {},
   "source": [
    "## Predict the matches in the candidate set using trained matcher"
   ]
  },
  {
   "cell_type": "markdown",
   "metadata": {},
   "source": [
    "Now, we use the trained matcher to predict matches in the candidate set. To do that, first we need to convert the candidate set to feature vectors."
   ]
  },
  {
   "cell_type": "code",
   "execution_count": 21,
   "metadata": {},
   "outputs": [],
   "source": [
    "# Select the attrs. to be included in the feature vector table\n",
    "attrs_from_table = ['ltable_name', 'ltable_addr', 'ltable_city', 'ltable_phone',\n",
    "                    'rtable_name', 'rtable_addr', 'rtable_city', 'rtable_phone']\n",
    "# Convert the cancidate set to feature vectors using the feature table\n",
    "L = em.extract_feature_vecs(C, feature_table=feature_table,\n",
    "                             attrs_before= attrs_from_table,\n",
    "                             show_progress=False, n_jobs=-1)"
   ]
  },
  {
   "cell_type": "markdown",
   "metadata": {},
   "source": [
    "Next, we predict the matches in the candidate set using the trained matcher and the feature vectors."
   ]
  },
  {
   "cell_type": "code",
   "execution_count": 22,
   "metadata": {},
   "outputs": [],
   "source": [
    "# Get the attributes to be excluded while predicting \n",
    "attrs_to_be_excluded = []\n",
    "attrs_to_be_excluded.extend(['_id', 'ltable_id', 'rtable_id'])\n",
    "attrs_to_be_excluded.extend(attrs_from_table)"
   ]
  },
  {
   "cell_type": "code",
   "execution_count": 23,
   "metadata": {},
   "outputs": [],
   "source": [
    "# Predict the matches\n",
    "predictions = rf.predict(table=L, exclude_attrs=attrs_to_be_excluded,                          \n",
    "              append=True, target_attr='predicted', inplace=False)"
   ]
  },
  {
   "cell_type": "code",
   "execution_count": 24,
   "metadata": {},
   "outputs": [
    {
     "data": {
      "text/html": [
       "<div>\n",
       "<style>\n",
       "    .dataframe thead tr:only-child th {\n",
       "        text-align: right;\n",
       "    }\n",
       "\n",
       "    .dataframe thead th {\n",
       "        text-align: left;\n",
       "    }\n",
       "\n",
       "    .dataframe tbody tr th {\n",
       "        vertical-align: top;\n",
       "    }\n",
       "</style>\n",
       "<table border=\"1\" class=\"dataframe\">\n",
       "  <thead>\n",
       "    <tr style=\"text-align: right;\">\n",
       "      <th></th>\n",
       "      <th>_id</th>\n",
       "      <th>ltable_id</th>\n",
       "      <th>rtable_id</th>\n",
       "      <th>ltable_name</th>\n",
       "      <th>ltable_addr</th>\n",
       "      <th>ltable_city</th>\n",
       "      <th>ltable_phone</th>\n",
       "      <th>rtable_name</th>\n",
       "      <th>rtable_addr</th>\n",
       "      <th>rtable_city</th>\n",
       "      <th>...</th>\n",
       "      <th>city_city_sw</th>\n",
       "      <th>type_type_jac_qgm_3_qgm_3</th>\n",
       "      <th>type_type_cos_dlm_dc0_dlm_dc0</th>\n",
       "      <th>type_type_jac_dlm_dc0_dlm_dc0</th>\n",
       "      <th>type_type_mel</th>\n",
       "      <th>type_type_lev_dist</th>\n",
       "      <th>type_type_lev_sim</th>\n",
       "      <th>type_type_nmw</th>\n",
       "      <th>type_type_sw</th>\n",
       "      <th>predicted</th>\n",
       "    </tr>\n",
       "  </thead>\n",
       "  <tbody>\n",
       "    <tr>\n",
       "      <th>0</th>\n",
       "      <td>0</td>\n",
       "      <td>543</td>\n",
       "      <td>1</td>\n",
       "      <td>grill on the alley</td>\n",
       "      <td>9560 dayton way</td>\n",
       "      <td>los angeles</td>\n",
       "      <td>310/276-0615</td>\n",
       "      <td>apple pan  the</td>\n",
       "      <td>10801 w. pico blvd.</td>\n",
       "      <td>west la</td>\n",
       "      <td>...</td>\n",
       "      <td>2.0</td>\n",
       "      <td>1.0</td>\n",
       "      <td>1.0</td>\n",
       "      <td>1.0</td>\n",
       "      <td>1.0</td>\n",
       "      <td>0.0</td>\n",
       "      <td>1.0</td>\n",
       "      <td>8.0</td>\n",
       "      <td>8.0</td>\n",
       "      <td>0</td>\n",
       "    </tr>\n",
       "    <tr>\n",
       "      <th>1</th>\n",
       "      <td>1</td>\n",
       "      <td>549</td>\n",
       "      <td>1</td>\n",
       "      <td>the palm</td>\n",
       "      <td>9001 santa monica blvd.</td>\n",
       "      <td>los angeles</td>\n",
       "      <td>310/550-8811</td>\n",
       "      <td>apple pan  the</td>\n",
       "      <td>10801 w. pico blvd.</td>\n",
       "      <td>west la</td>\n",
       "      <td>...</td>\n",
       "      <td>2.0</td>\n",
       "      <td>1.0</td>\n",
       "      <td>1.0</td>\n",
       "      <td>1.0</td>\n",
       "      <td>1.0</td>\n",
       "      <td>0.0</td>\n",
       "      <td>1.0</td>\n",
       "      <td>8.0</td>\n",
       "      <td>8.0</td>\n",
       "      <td>0</td>\n",
       "    </tr>\n",
       "    <tr>\n",
       "      <th>2</th>\n",
       "      <td>2</td>\n",
       "      <td>551</td>\n",
       "      <td>1</td>\n",
       "      <td>philippes the original</td>\n",
       "      <td>1001 n. alameda st.</td>\n",
       "      <td>los angeles</td>\n",
       "      <td>213/628-3781</td>\n",
       "      <td>apple pan  the</td>\n",
       "      <td>10801 w. pico blvd.</td>\n",
       "      <td>west la</td>\n",
       "      <td>...</td>\n",
       "      <td>2.0</td>\n",
       "      <td>1.0</td>\n",
       "      <td>1.0</td>\n",
       "      <td>1.0</td>\n",
       "      <td>1.0</td>\n",
       "      <td>0.0</td>\n",
       "      <td>1.0</td>\n",
       "      <td>8.0</td>\n",
       "      <td>8.0</td>\n",
       "      <td>0</td>\n",
       "    </tr>\n",
       "    <tr>\n",
       "      <th>3</th>\n",
       "      <td>3</td>\n",
       "      <td>595</td>\n",
       "      <td>1</td>\n",
       "      <td>sign of the dove</td>\n",
       "      <td>1110 3rd ave. at 65th st.</td>\n",
       "      <td>new york</td>\n",
       "      <td>212/861-8080</td>\n",
       "      <td>apple pan  the</td>\n",
       "      <td>10801 w. pico blvd.</td>\n",
       "      <td>west la</td>\n",
       "      <td>...</td>\n",
       "      <td>1.0</td>\n",
       "      <td>1.0</td>\n",
       "      <td>1.0</td>\n",
       "      <td>1.0</td>\n",
       "      <td>1.0</td>\n",
       "      <td>0.0</td>\n",
       "      <td>1.0</td>\n",
       "      <td>8.0</td>\n",
       "      <td>8.0</td>\n",
       "      <td>0</td>\n",
       "    </tr>\n",
       "    <tr>\n",
       "      <th>4</th>\n",
       "      <td>4</td>\n",
       "      <td>597</td>\n",
       "      <td>1</td>\n",
       "      <td>tavern on the green</td>\n",
       "      <td>in central park at 67th st.</td>\n",
       "      <td>new york</td>\n",
       "      <td>212/873-3200</td>\n",
       "      <td>apple pan  the</td>\n",
       "      <td>10801 w. pico blvd.</td>\n",
       "      <td>west la</td>\n",
       "      <td>...</td>\n",
       "      <td>1.0</td>\n",
       "      <td>1.0</td>\n",
       "      <td>1.0</td>\n",
       "      <td>1.0</td>\n",
       "      <td>1.0</td>\n",
       "      <td>0.0</td>\n",
       "      <td>1.0</td>\n",
       "      <td>8.0</td>\n",
       "      <td>8.0</td>\n",
       "      <td>0</td>\n",
       "    </tr>\n",
       "  </tbody>\n",
       "</table>\n",
       "<p>5 rows × 48 columns</p>\n",
       "</div>"
      ],
      "text/plain": [
       "   _id  ltable_id  rtable_id             ltable_name  \\\n",
       "0    0        543          1      grill on the alley   \n",
       "1    1        549          1                the palm   \n",
       "2    2        551          1  philippes the original   \n",
       "3    3        595          1        sign of the dove   \n",
       "4    4        597          1     tavern on the green   \n",
       "\n",
       "                   ltable_addr  ltable_city  ltable_phone     rtable_name  \\\n",
       "0              9560 dayton way  los angeles  310/276-0615  apple pan  the   \n",
       "1      9001 santa monica blvd.  los angeles  310/550-8811  apple pan  the   \n",
       "2          1001 n. alameda st.  los angeles  213/628-3781  apple pan  the   \n",
       "3    1110 3rd ave. at 65th st.     new york  212/861-8080  apple pan  the   \n",
       "4  in central park at 67th st.     new york  212/873-3200  apple pan  the   \n",
       "\n",
       "           rtable_addr rtable_city    ...     city_city_sw  \\\n",
       "0  10801 w. pico blvd.     west la    ...              2.0   \n",
       "1  10801 w. pico blvd.     west la    ...              2.0   \n",
       "2  10801 w. pico blvd.     west la    ...              2.0   \n",
       "3  10801 w. pico blvd.     west la    ...              1.0   \n",
       "4  10801 w. pico blvd.     west la    ...              1.0   \n",
       "\n",
       "   type_type_jac_qgm_3_qgm_3  type_type_cos_dlm_dc0_dlm_dc0  \\\n",
       "0                        1.0                            1.0   \n",
       "1                        1.0                            1.0   \n",
       "2                        1.0                            1.0   \n",
       "3                        1.0                            1.0   \n",
       "4                        1.0                            1.0   \n",
       "\n",
       "   type_type_jac_dlm_dc0_dlm_dc0  type_type_mel  type_type_lev_dist  \\\n",
       "0                            1.0            1.0                 0.0   \n",
       "1                            1.0            1.0                 0.0   \n",
       "2                            1.0            1.0                 0.0   \n",
       "3                            1.0            1.0                 0.0   \n",
       "4                            1.0            1.0                 0.0   \n",
       "\n",
       "   type_type_lev_sim  type_type_nmw  type_type_sw  predicted  \n",
       "0                1.0            8.0           8.0          0  \n",
       "1                1.0            8.0           8.0          0  \n",
       "2                1.0            8.0           8.0          0  \n",
       "3                1.0            8.0           8.0          0  \n",
       "4                1.0            8.0           8.0          0  \n",
       "\n",
       "[5 rows x 48 columns]"
      ]
     },
     "execution_count": 24,
     "metadata": {},
     "output_type": "execute_result"
    }
   ],
   "source": [
    "predictions.head()"
   ]
  },
  {
   "cell_type": "markdown",
   "metadata": {},
   "source": [
    "Finally, project the attributes and the predictions from the predicted table."
   ]
  },
  {
   "cell_type": "code",
   "execution_count": 25,
   "metadata": {},
   "outputs": [],
   "source": [
    "# Get the attributes to be projected out\n",
    "attrs_proj = []\n",
    "attrs_proj.extend(['_id', 'ltable_id', 'rtable_id'])\n",
    "attrs_proj.extend(attrs_from_table)\n",
    "attrs_proj.append('predicted')\n",
    "\n",
    "# Project the attributes\n",
    "predictions = predictions[attrs_proj]"
   ]
  },
  {
   "cell_type": "code",
   "execution_count": 26,
   "metadata": {},
   "outputs": [
    {
     "data": {
      "text/html": [
       "<div>\n",
       "<style>\n",
       "    .dataframe thead tr:only-child th {\n",
       "        text-align: right;\n",
       "    }\n",
       "\n",
       "    .dataframe thead th {\n",
       "        text-align: left;\n",
       "    }\n",
       "\n",
       "    .dataframe tbody tr th {\n",
       "        vertical-align: top;\n",
       "    }\n",
       "</style>\n",
       "<table border=\"1\" class=\"dataframe\">\n",
       "  <thead>\n",
       "    <tr style=\"text-align: right;\">\n",
       "      <th></th>\n",
       "      <th>_id</th>\n",
       "      <th>ltable_id</th>\n",
       "      <th>rtable_id</th>\n",
       "      <th>ltable_name</th>\n",
       "      <th>ltable_addr</th>\n",
       "      <th>ltable_city</th>\n",
       "      <th>ltable_phone</th>\n",
       "      <th>rtable_name</th>\n",
       "      <th>rtable_addr</th>\n",
       "      <th>rtable_city</th>\n",
       "      <th>rtable_phone</th>\n",
       "      <th>predicted</th>\n",
       "    </tr>\n",
       "  </thead>\n",
       "  <tbody>\n",
       "    <tr>\n",
       "      <th>0</th>\n",
       "      <td>0</td>\n",
       "      <td>543</td>\n",
       "      <td>1</td>\n",
       "      <td>grill on the alley</td>\n",
       "      <td>9560 dayton way</td>\n",
       "      <td>los angeles</td>\n",
       "      <td>310/276-0615</td>\n",
       "      <td>apple pan  the</td>\n",
       "      <td>10801 w. pico blvd.</td>\n",
       "      <td>west la</td>\n",
       "      <td>310-475-3585</td>\n",
       "      <td>0</td>\n",
       "    </tr>\n",
       "    <tr>\n",
       "      <th>1</th>\n",
       "      <td>1</td>\n",
       "      <td>549</td>\n",
       "      <td>1</td>\n",
       "      <td>the palm</td>\n",
       "      <td>9001 santa monica blvd.</td>\n",
       "      <td>los angeles</td>\n",
       "      <td>310/550-8811</td>\n",
       "      <td>apple pan  the</td>\n",
       "      <td>10801 w. pico blvd.</td>\n",
       "      <td>west la</td>\n",
       "      <td>310-475-3585</td>\n",
       "      <td>0</td>\n",
       "    </tr>\n",
       "    <tr>\n",
       "      <th>2</th>\n",
       "      <td>2</td>\n",
       "      <td>551</td>\n",
       "      <td>1</td>\n",
       "      <td>philippes the original</td>\n",
       "      <td>1001 n. alameda st.</td>\n",
       "      <td>los angeles</td>\n",
       "      <td>213/628-3781</td>\n",
       "      <td>apple pan  the</td>\n",
       "      <td>10801 w. pico blvd.</td>\n",
       "      <td>west la</td>\n",
       "      <td>310-475-3585</td>\n",
       "      <td>0</td>\n",
       "    </tr>\n",
       "    <tr>\n",
       "      <th>3</th>\n",
       "      <td>3</td>\n",
       "      <td>595</td>\n",
       "      <td>1</td>\n",
       "      <td>sign of the dove</td>\n",
       "      <td>1110 3rd ave. at 65th st.</td>\n",
       "      <td>new york</td>\n",
       "      <td>212/861-8080</td>\n",
       "      <td>apple pan  the</td>\n",
       "      <td>10801 w. pico blvd.</td>\n",
       "      <td>west la</td>\n",
       "      <td>310-475-3585</td>\n",
       "      <td>0</td>\n",
       "    </tr>\n",
       "    <tr>\n",
       "      <th>4</th>\n",
       "      <td>4</td>\n",
       "      <td>597</td>\n",
       "      <td>1</td>\n",
       "      <td>tavern on the green</td>\n",
       "      <td>in central park at 67th st.</td>\n",
       "      <td>new york</td>\n",
       "      <td>212/873-3200</td>\n",
       "      <td>apple pan  the</td>\n",
       "      <td>10801 w. pico blvd.</td>\n",
       "      <td>west la</td>\n",
       "      <td>310-475-3585</td>\n",
       "      <td>0</td>\n",
       "    </tr>\n",
       "  </tbody>\n",
       "</table>\n",
       "</div>"
      ],
      "text/plain": [
       "   _id  ltable_id  rtable_id             ltable_name  \\\n",
       "0    0        543          1      grill on the alley   \n",
       "1    1        549          1                the palm   \n",
       "2    2        551          1  philippes the original   \n",
       "3    3        595          1        sign of the dove   \n",
       "4    4        597          1     tavern on the green   \n",
       "\n",
       "                   ltable_addr  ltable_city  ltable_phone     rtable_name  \\\n",
       "0              9560 dayton way  los angeles  310/276-0615  apple pan  the   \n",
       "1      9001 santa monica blvd.  los angeles  310/550-8811  apple pan  the   \n",
       "2          1001 n. alameda st.  los angeles  213/628-3781  apple pan  the   \n",
       "3    1110 3rd ave. at 65th st.     new york  212/861-8080  apple pan  the   \n",
       "4  in central park at 67th st.     new york  212/873-3200  apple pan  the   \n",
       "\n",
       "           rtable_addr rtable_city  rtable_phone  predicted  \n",
       "0  10801 w. pico blvd.     west la  310-475-3585          0  \n",
       "1  10801 w. pico blvd.     west la  310-475-3585          0  \n",
       "2  10801 w. pico blvd.     west la  310-475-3585          0  \n",
       "3  10801 w. pico blvd.     west la  310-475-3585          0  \n",
       "4  10801 w. pico blvd.     west la  310-475-3585          0  "
      ]
     },
     "execution_count": 26,
     "metadata": {},
     "output_type": "execute_result"
    }
   ],
   "source": [
    "predictions.head()"
   ]
  }
 ],
 "metadata": {
  "anaconda-cloud": {},
  "kernelspec": {
   "display_name": "Python 2",
   "language": "python",
   "name": "python2"
  },
  "language_info": {
   "codemirror_mode": {
    "name": "ipython",
    "version": 2
   },
   "file_extension": ".py",
   "mimetype": "text/x-python",
   "name": "python",
   "nbconvert_exporter": "python",
   "pygments_lexer": "ipython2",
   "version": "2.7.14"
  }
 },
 "nbformat": 4,
 "nbformat_minor": 1
}
